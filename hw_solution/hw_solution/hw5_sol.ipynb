{
 "cells": [
  {
   "cell_type": "code",
   "execution_count": 1,
   "metadata": {},
   "outputs": [
    {
     "name": "stdout",
     "output_type": "stream",
     "text": [
      "['Harry', 'Ron', 'Hermione']\n"
     ]
    }
   ],
   "source": [
    "def good():\n",
    "    return ['Harry', 'Ron', 'Hermione']\n",
    "\n",
    "print(good())"
   ]
  },
  {
   "cell_type": "code",
   "execution_count": 2,
   "metadata": {},
   "outputs": [
    {
     "name": "stdout",
     "output_type": "stream",
     "text": [
      "5\n"
     ]
    }
   ],
   "source": [
    "def get_odds(n):\n",
    "    for i in range(n):\n",
    "        if i % 2 != 0:\n",
    "            yield i\n",
    "\n",
    "\n",
    "for i,n in enumerate(get_odds(10)):\n",
    "    if i == 2:\n",
    "        print(n)\n",
    "    "
   ]
  },
  {
   "cell_type": "code",
   "execution_count": 3,
   "metadata": {},
   "outputs": [
    {
     "name": "stdout",
     "output_type": "stream",
     "text": [
      "start\n",
      "hello!\n",
      "hello!\n",
      "hello!\n",
      "hello!\n",
      "hello!\n",
      "hello!\n",
      "hello!\n",
      "hello!\n",
      "hello!\n",
      "hello!\n",
      "end\n",
      "1.5020370483398438e-05 seconds\n"
     ]
    }
   ],
   "source": [
    "def test(func):\n",
    "    import time\n",
    "    def wrapper():\n",
    "        print('start')\n",
    "        start = time.time()\n",
    "        func()\n",
    "        end = time.time()\n",
    "        print('end')\n",
    "        print(end - start, 'seconds')\n",
    "    return wrapper\n",
    "'''\n",
    "@test\n",
    "def hello10():\n",
    "    for i in range(10):\n",
    "        print('hello!')\n",
    "\n",
    "hello10()\n",
    "'''\n",
    "def hello10():\n",
    "    for i in range(10):\n",
    "        print('hello!')\n",
    "wrapped_func = test(hello10)\n",
    "wrapped_func()\n",
    "\n"
   ]
  },
  {
   "cell_type": "code",
   "execution_count": 8,
   "metadata": {},
   "outputs": [
    {
     "name": "stdout",
     "output_type": "stream",
     "text": [
      "37\n",
      "38\n",
      "invalid card number!!! The Luhn checksum is invalid.\n"
     ]
    }
   ],
   "source": [
    "def getDigit(num):\n",
    "    if num > 9:\n",
    "        stmp = str(num)\n",
    "        return int(stmp[0]) + int(stmp[1])\n",
    "    return num\n",
    "\n",
    "def sumOfDoubleEvenPlace(num):\n",
    "    reverseNum = num[::-1]\n",
    "    sum = 0\n",
    "    for i in range(len(reverseNum)):\n",
    "        tmp = 0\n",
    "        if (i+1) % 2 == 0:\n",
    "            tmp = int(reverseNum[i]) * 2\n",
    "            tmp = getDigit(tmp)            \n",
    "            sum += tmp\n",
    "    print(sum)\n",
    "    return sum\n",
    "\n",
    "def sumOfOddPlace(num):\n",
    "    reverseNum = num[::-1]\n",
    "    sum = 0\n",
    "    for i in range(len(num)):\n",
    "        if (i+1) % 2 != 0:\n",
    "            sum += int(reverseNum[i])\n",
    "    print(sum)\n",
    "    return sum\n",
    "\n",
    "def getPrefix(num,k):\n",
    "    if k > len(num):\n",
    "        return num\n",
    "    return num[0:k]\n",
    "\n",
    "def prefixMatched(num, prefix):\n",
    "    if num[0:len(prefix)] == prefix:\n",
    "        return True\n",
    "    else:\n",
    "        return False\n",
    "\n",
    "def getSized(d):\n",
    "    return len(d)\n",
    "\n",
    "\n",
    "\n",
    "def isValid(creditCardNum):\n",
    "   \n",
    "    if(getSized(creditCardNum)) < 13 or getSized(creditCardNum) > 16:\n",
    "        print('invalid card number!!! The number of digits is not between 13 and 16.')\n",
    "        return False\n",
    "    \n",
    "    if not prefixMatched(getPrefix(creditCardNum,1), '4')  and not prefixMatched(getPrefix(creditCardNum,1), '5') and not prefixMatched(getPrefix(creditCardNum,2), '37') and not prefixMatched(getPrefix(creditCardNum,1), '6'):\n",
    "        print('invalid card number!!! The prefix of the number is not 4, 5, 37 or 6.')\n",
    "        return False\n",
    "\n",
    "    if (sumOfDoubleEvenPlace(creditCardNum) + sumOfOddPlace(creditCardNum)) % 10 != 0:\n",
    "        print('invalid card number!!! The Luhn checksum is invalid.')\n",
    "        return False\n",
    "    \n",
    "    return True\n",
    "\n",
    "creditCardNum = input('please input the credit card number: ')\n",
    "\n",
    "if isValid(creditCardNum):\n",
    "    print('valid card number!!!')\n",
    "\n"
   ]
  },
  {
   "cell_type": "code",
   "execution_count": 11,
   "metadata": {},
   "outputs": [
    {
     "name": "stdout",
     "output_type": "stream",
     "text": [
      "The number is NOT a palindrome.\n"
     ]
    }
   ],
   "source": [
    "def reverse(num):\n",
    "    return num[::-1]\n",
    "\n",
    "def isPalindrome(num):\n",
    "    if num == reverse(num):\n",
    "        return True\n",
    "    else:\n",
    "        return False\n",
    "\n",
    "num = input('Please input a integer number: ')\n",
    "\n",
    "if isPalindrome(num):\n",
    "    print('The number is a palindrome.')\n",
    "else:\n",
    "    print('The number is NOT a palindrome.')"
   ]
  }
 ],
 "metadata": {
  "kernelspec": {
   "display_name": "dle",
   "language": "python",
   "name": "python3"
  },
  "language_info": {
   "codemirror_mode": {
    "name": "ipython",
    "version": 3
   },
   "file_extension": ".py",
   "mimetype": "text/x-python",
   "name": "python",
   "nbconvert_exporter": "python",
   "pygments_lexer": "ipython3",
   "version": "3.9.7"
  }
 },
 "nbformat": 4,
 "nbformat_minor": 2
}
