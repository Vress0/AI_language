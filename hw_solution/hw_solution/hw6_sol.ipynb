{
 "cells": [
  {
   "cell_type": "code",
   "execution_count": 1,
   "metadata": {},
   "outputs": [
    {
     "name": "stdout",
     "output_type": "stream",
     "text": [
      "berries\n",
      "clover\n",
      "campers\n"
     ]
    }
   ],
   "source": [
    "class Bear:\n",
    "    def eats(self):\n",
    "        return 'berries'\n",
    "\n",
    "class Rabbit:\n",
    "    def eats(self):\n",
    "        return 'clover'\n",
    "\n",
    "class Octothorpe:\n",
    "    def eats(self):\n",
    "        return 'campers'\n",
    "\n",
    "bear = Bear()\n",
    "rabbit = Rabbit()\n",
    "octothorpe = Octothorpe()\n",
    "\n",
    "print(bear.eats())\n",
    "print(rabbit.eats())\n",
    "print(octothorpe.eats())"
   ]
  },
  {
   "cell_type": "code",
   "execution_count": 6,
   "metadata": {},
   "outputs": [
    {
     "name": "stdout",
     "output_type": "stream",
     "text": [
      "Laser: disintegrate\n",
      "Claw: crush\n",
      "SmartPhone: ring\n"
     ]
    }
   ],
   "source": [
    "class Laser:\n",
    "    def does(self):\n",
    "        return 'disintegrate'\n",
    "\n",
    "class Claw:\n",
    "    def does(self):\n",
    "        return 'crush'\n",
    "\n",
    "class SmartPhone:\n",
    "    def does(self):\n",
    "        return 'ring'\n",
    "\n",
    "class Robot:\n",
    "    def __init__(self):\n",
    "        self.laser = Laser()\n",
    "        self.claw = Claw()\n",
    "        self.smartphone = SmartPhone()\n",
    "    def does(self):\n",
    "        print('Laser:', self.laser.does())\n",
    "        print('Claw:', self.claw.does())\n",
    "        print('SmartPhone:', self.smartphone.does())\n",
    "\n",
    "robot = Robot()\n",
    "robot.does()\n",
    "\n"
   ]
  },
  {
   "cell_type": "code",
   "execution_count": 12,
   "metadata": {},
   "outputs": [
    {
     "name": "stdout",
     "output_type": "stream",
     "text": [
      "b.\n",
      "Hydrogen H 1\n",
      "<__main__.Element object at 0x111647a30>\n",
      "c.\n",
      "Hydrogen H 1\n",
      "d.\n",
      "Hydrogen H 1\n",
      "e.\n",
      "Hydrogen\n",
      "H\n",
      "1\n"
     ]
    }
   ],
   "source": [
    "#a\n",
    "class Element:\n",
    "    def __init__(self, name, symbol, number):\n",
    "        self.name = name\n",
    "        self.symbol = symbol\n",
    "        self.number = number\n",
    "\n",
    "hydrogen = Element('Hydorgen','H',1)\n",
    "\n",
    "#b\n",
    "d = {'name':'Hydrogen', 'symbol':'H', 'number':1}\n",
    "hydrogen = Element(**d)\n",
    "print('b.')\n",
    "print(hydrogen.name, hydrogen.symbol, hydrogen.number)\n",
    "\n",
    "#c\n",
    "print(hydrogen)\n",
    "class Element:\n",
    "    def __init__(self, name, symbol, number):\n",
    "        self.name = name\n",
    "        self.symbol = symbol\n",
    "        self.number = number\n",
    "    def dump(self):\n",
    "        print(self.name, self.symbol, self.number)\n",
    "\n",
    "hydrogen = Element('Hydrogen','H',1)\n",
    "print('c.')\n",
    "hydrogen.dump()\n",
    "\n",
    "#d\n",
    "class Element:\n",
    "    def __init__(self, name, symbol, number):\n",
    "        self.name = name\n",
    "        self.symbol = symbol\n",
    "        self.number = number\n",
    "    def __str__(self):\n",
    "        return f'{self.name} {self.symbol} {self.number}'\n",
    "hydrogen = Element('Hydrogen','H',1)\n",
    "print('d.')\n",
    "print(hydrogen)\n",
    "\n",
    "#e\n",
    "class Element:\n",
    "    def __init__(self, name, symbol, number):\n",
    "        self.__name = name\n",
    "        self.__symbol = symbol\n",
    "        self.__number = number\n",
    "    @property\n",
    "    def name(self):\n",
    "        return self.__name\n",
    "    @property\n",
    "    def symbol(self):\n",
    "        return self.__symbol\n",
    "    @property\n",
    "    def number(self):\n",
    "        return self.__number\n",
    "hydrogen = Element('Hydrogen','H',1)\n",
    "print('e.')\n",
    "print(hydrogen.name)\n",
    "print(hydrogen.symbol)\n",
    "print(hydrogen.number)\n",
    "\n"
   ]
  },
  {
   "cell_type": "code",
   "execution_count": 27,
   "metadata": {},
   "outputs": [
    {
     "name": "stdout",
     "output_type": "stream",
     "text": [
      "4.0\n",
      "-6.0\n"
     ]
    }
   ],
   "source": [
    "class QuadraticEquation:\n",
    "    def __init__(self, a, b, c):\n",
    "        self.__a = a\n",
    "        self.__b = b\n",
    "        self.__c = c\n",
    "    @property\n",
    "    def a(self):\n",
    "        return self.__a\n",
    "    @property\n",
    "    def b(self):\n",
    "        return self.__b\n",
    "    @property\n",
    "    def c(self):\n",
    "        return self.__c\n",
    "    def discriminate(self):\n",
    "        return self.__b**2 - 4*self.__a*self.__c\n",
    "    def getRoot1(self):\n",
    "        if self.discriminate() < 0:\n",
    "            return 0\n",
    "        \n",
    "        return (-self.__b + self.discriminate()**0.5)/(2*self.__a)\n",
    "    def getRoot2(self):\n",
    "        if self.discriminate() < 0:\n",
    "            return 0\n",
    "        \n",
    "        return (-self.__b - self.discriminate()**0.5)/(2*self.__a)\n",
    "\n",
    "q1 = QuadraticEquation(1, 2, -24)\n",
    "if q1.discriminate() > 0:\n",
    "    print(q1.getRoot1())\n",
    "    print(q1.getRoot2())\n",
    "elif q1.discriminate == 0:\n",
    "    print(q1.getRoot1())\n",
    "else:\n",
    "    print('The equation has no roots.')"
   ]
  },
  {
   "cell_type": "code",
   "execution_count": 28,
   "metadata": {},
   "outputs": [
    {
     "name": "stdout",
     "output_type": "stream",
     "text": [
      "Elasped time: 63.777923583984375 ms\n"
     ]
    }
   ],
   "source": [
    "\n",
    "class StopWatch:\n",
    "    import time\n",
    "    def __init__(self):\n",
    "        self.__startTime = 0\n",
    "        self.__endTime = 0\n",
    "    def start(self):\n",
    "        self.__startTime = time.time()\n",
    "    def stop(self):\n",
    "        self.__endTime = time.time()\n",
    "    def getElapsedTime(self):\n",
    "        return self.__endTime - self.__startTime\n",
    "\n",
    "stopWatch = StopWatch()\n",
    "stopWatch.start()\n",
    "sum = 0\n",
    "for i in range(1,1_000_001):\n",
    "    sum += i\n",
    "stopWatch.stop()\n",
    "\n",
    "print('Elasped time:', stopWatch.getElapsedTime()*1000, 'ms')"
   ]
  }
 ],
 "metadata": {
  "kernelspec": {
   "display_name": "dle",
   "language": "python",
   "name": "python3"
  },
  "language_info": {
   "codemirror_mode": {
    "name": "ipython",
    "version": 3
   },
   "file_extension": ".py",
   "mimetype": "text/x-python",
   "name": "python",
   "nbconvert_exporter": "python",
   "pygments_lexer": "ipython3",
   "version": "3.9.7"
  }
 },
 "nbformat": 4,
 "nbformat_minor": 2
}
