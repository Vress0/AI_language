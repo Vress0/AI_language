{
 "cells": [
  {
   "cell_type": "code",
   "execution_count": 1,
   "id": "ec238324",
   "metadata": {},
   "outputs": [
    {
     "ename": "NameError",
     "evalue": "name 'd' is not defined",
     "output_type": "error",
     "traceback": [
      "\u001b[1;31m---------------------------------------------------------------------------\u001b[0m",
      "\u001b[1;31mNameError\u001b[0m                                 Traceback (most recent call last)",
      "Cell \u001b[1;32mIn[1], line 2\u001b[0m\n\u001b[0;32m      1\u001b[0m b \u001b[38;5;241m=\u001b[39m [\n\u001b[1;32m----> 2\u001b[0m   [\u001b[38;5;241m1\u001b[39m, \u001b[38;5;124m'\u001b[39m\u001b[38;5;124mb\u001b[39m\u001b[38;5;124m'\u001b[39m, \u001b[38;5;241m4\u001b[39m, d, t, \u001b[38;5;241m4\u001b[39m],\n\u001b[0;32m      3\u001b[0m   [\u001b[38;5;241m2\u001b[39m, g, \u001b[38;5;124m'\u001b[39m\u001b[38;5;124md\u001b[39m\u001b[38;5;124m'\u001b[39m, e, \u001b[38;5;124m'\u001b[39m\u001b[38;5;124mh\u001b[39m\u001b[38;5;124m'\u001b[39m, h],\n\u001b[0;32m      4\u001b[0m   [d, g, hh, j, \u001b[38;5;241m3\u001b[39m]\n\u001b[0;32m      5\u001b[0m ]\n\u001b[0;32m      6\u001b[0m b[row][col]\n",
      "\u001b[1;31mNameError\u001b[0m: name 'd' is not defined"
     ]
    }
   ],
   "source": [
    "b = [\n",
    "  [1, 'b', 4, d, t, 4],\n",
    "  [2, g, 'd', e, 'h', h],\n",
    "  [d, g, hh, j, 3]\n",
    "]\n",
    "b[row][col]\n"
   ]
  },
  {
   "cell_type": "code",
   "execution_count": 2,
   "id": "988dc90c",
   "metadata": {},
   "outputs": [
    {
     "name": "stdout",
     "output_type": "stream",
     "text": [
      "🔵 原始資料 D\n",
      "D: {'a': [1, 2, 3]}\n",
      "D id: 2129017111232\n",
      "D['a'] id: 2129017112960\n",
      "\n",
      "🔹 C1 = D（直接指定）\n",
      "C1 id: 2129017111232\n",
      "C1['a'] id: 2129017112960\n",
      "\n",
      "🔹 C2 = D.copy()（淺拷貝）\n",
      "C2 id: 2129017196416\n",
      "C2['a'] id: 2129017112960\n",
      "\n",
      "🔹 C3 = copy.deepcopy(D)（深拷貝）\n",
      "C3 id: 2129017111424\n",
      "C3['a'] id: 2129017082432\n",
      "\n",
      "🧪 測試修改 C1['a'][0] = 999\n",
      "D: {'a': [999, 2, 3]}\n",
      "C2: {'a': [999, 2, 3]}\n",
      "C3: {'a': [1, 2, 3]}\n"
     ]
    }
   ],
   "source": [
    "import copy\n",
    "\n",
    "print(\"🔵 原始資料 D\")\n",
    "D = {'a': [1, 2, 3]}\n",
    "print(\"D:\", D)\n",
    "print(\"D id:\", id(D))\n",
    "print(\"D['a'] id:\", id(D['a']))\n",
    "\n",
    "print(\"\\n🔹 C1 = D（直接指定）\")\n",
    "C1 = D\n",
    "print(\"C1 id:\", id(C1))                # 同 D\n",
    "print(\"C1['a'] id:\", id(C1['a']))      # 同 D['a']\n",
    "\n",
    "print(\"\\n🔹 C2 = D.copy()（淺拷貝）\")\n",
    "C2 = D.copy()\n",
    "print(\"C2 id:\", id(C2))                # 不同於 D\n",
    "print(\"C2['a'] id:\", id(C2['a']))      # 同 D['a']（⚠️）\n",
    "\n",
    "print(\"\\n🔹 C3 = copy.deepcopy(D)（深拷貝）\")\n",
    "C3 = copy.deepcopy(D)\n",
    "print(\"C3 id:\", id(C3))                # 不同於 D\n",
    "print(\"C3['a'] id:\", id(C3['a']))      # ⚠️ 不同於 D['a']！\n",
    "\n",
    "# 測試修改\n",
    "print(\"\\n🧪 測試修改 C1['a'][0] = 999\")\n",
    "C1['a'][0] = 999\n",
    "print(\"D:\", D)    # 會變\n",
    "print(\"C2:\", C2)  # 也會變\n",
    "print(\"C3:\", C3)  # ✅ 不會變\n"
   ]
  },
  {
   "cell_type": "code",
   "execution_count": null,
   "id": "9a1cf4f8",
   "metadata": {},
   "outputs": [],
   "source": []
  }
 ],
 "metadata": {
  "kernelspec": {
   "display_name": "base",
   "language": "python",
   "name": "python3"
  },
  "language_info": {
   "codemirror_mode": {
    "name": "ipython",
    "version": 3
   },
   "file_extension": ".py",
   "mimetype": "text/x-python",
   "name": "python",
   "nbconvert_exporter": "python",
   "pygments_lexer": "ipython3",
   "version": "3.12.7"
  }
 },
 "nbformat": 4,
 "nbformat_minor": 5
}
