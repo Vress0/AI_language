{
 "cells": [
  {
   "cell_type": "code",
   "execution_count": 6,
   "id": "dab6b184",
   "metadata": {},
   "outputs": [
    {
     "data": {
      "text/plain": [
       "['111', '22,5,2,5']"
      ]
     },
     "execution_count": 6,
     "metadata": {},
     "output_type": "execute_result"
    }
   ],
   "source": [
    "g = \"111,22,5,2,5\"\n",
    "\n",
    "g.split(\",\",1)"
   ]
  },
  {
   "cell_type": "code",
   "execution_count": null,
   "id": "b6826708",
   "metadata": {},
   "outputs": [],
   "source": []
  }
 ],
 "metadata": {
  "kernelspec": {
   "display_name": "base",
   "language": "python",
   "name": "python3"
  },
  "language_info": {
   "codemirror_mode": {
    "name": "ipython",
    "version": 3
   },
   "file_extension": ".py",
   "mimetype": "text/x-python",
   "name": "python",
   "nbconvert_exporter": "python",
   "pygments_lexer": "ipython3",
   "version": "3.12.7"
  }
 },
 "nbformat": 4,
 "nbformat_minor": 5
}
