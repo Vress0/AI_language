{
 "cells": [
  {
   "cell_type": "markdown",
   "metadata": {},
   "source": [
    "#### elif 只要一個符合其他的就不會執行\n",
    "#### python 程式區塊不用用大括號"
   ]
  },
  {
   "cell_type": "markdown",
   "metadata": {},
   "source": [
    "##### for i in range(0,10) 0~(10-1)\n",
    "#####    i 可以為任意變數\n",
    "\n",
    "##### list (array)\n"
   ]
  },
  {
   "cell_type": "code",
   "execution_count": null,
   "metadata": {},
   "outputs": [
    {
     "name": "stdout",
     "output_type": "stream",
     "text": [
      "[1, 2, 3, 4, 5, 6]\n",
      "[2, 3]\n",
      "[2, 3, 4, 5, 6]\n",
      "[1, 2, 3]\n",
      "[6, 5, 4, 3, 2, 1]\n",
      "[2, 4]\n",
      "['hi', 'hi', 'hi', 'hi']\n"
     ]
    }
   ],
   "source": [
    "a = [1,2,3]+[4,5,6]\n",
    "print(a)\n",
    "print(a[1:3]) # 1有包含，3沒有\n",
    "print(a[1:])\n",
    "print(a[:3])\n",
    "print(a[::-1]) #起始,終止(不包含),steps(正負方向)\n",
    "print(a[1:5:2])\n",
    "\n",
    "b = [\"hi\"]*4\n",
    "print(b)"
   ]
  },
  {
   "cell_type": "code",
   "execution_count": 18,
   "metadata": {},
   "outputs": [
    {
     "name": "stdout",
     "output_type": "stream",
     "text": [
      "index:0 / v:1\n",
      "##################\n",
      "index :0,v:1\n",
      "index:1 / v:2\n",
      "##################\n",
      "index :1,v:2\n",
      "index:2 / v:3\n",
      "##################\n",
      "index :2,v:3\n",
      "index:3 / v:4\n",
      "##################\n",
      "index :3,v:4\n",
      "index:4 / v:5\n",
      "##################\n",
      "index :4,v:5\n",
      "index:5 / v:6\n",
      "##################\n",
      "index :5,v:6\n"
     ]
    }
   ],
   "source": [
    "k = [\"aa\",\"bb\",\"cc\"]\n",
    "for i,v in enumerate(a):\n",
    "    print(\"index:\"+str(i)+\" / \"+\"v:\"+str(v))\n",
    "    print(\"##################\")\n",
    "    print(f\"index :{i},v:{v}\")"
   ]
  },
  {
   "cell_type": "code",
   "execution_count": null,
   "metadata": {},
   "outputs": [],
   "source": [
    "def function(para1,para2):\n",
    "    ...\n",
    "    ...\n",
    "    return a,b,c"
   ]
  },
  {
   "cell_type": "code",
   "execution_count": null,
   "metadata": {},
   "outputs": [],
   "source": [
    "outfile = open(\"aaa.txt\",\"w\")\n",
    "outfile.write(\"hello world\")"
   ]
  },
  {
   "cell_type": "code",
   "execution_count": null,
   "metadata": {},
   "outputs": [],
   "source": [
    "outfile = open(\"aaa.txt\",\"w\")\n",
    "for i in range(10):\n",
    "    outfile.write(str(i)+\"hello world\")\n",
    "outfile.close() # 重要!! 確保資料不會遺失"
   ]
  },
  {
   "cell_type": "code",
   "execution_count": null,
   "metadata": {},
   "outputs": [],
   "source": [
    "inputFile = open(\"output.txt\")"
   ]
  },
  {
   "cell_type": "code",
   "execution_count": null,
   "metadata": {},
   "outputs": [
    {
     "name": "stdout",
     "output_type": "stream",
     "text": [
      "Welcome to Python\n",
      "Welcome to Computer\n",
      "Welcome to AI\n",
      "Programming is fun\n"
     ]
    }
   ],
   "source": [
    "#Q1\n",
    "print(\"Welcome to Python\")\n",
    "print(\"Welcome to Computer\")\n",
    "print(\"Welcome to AI\")\n",
    "print(\"Programming is fun\")"
   ]
  },
  {
   "cell_type": "code",
   "execution_count": 1,
   "metadata": {},
   "outputs": [
    {
     "name": "stdout",
     "output_type": "stream",
     "text": [
      "     a  a^2  a^3\n",
      "(1)  1    1    1\n",
      "(2)  2    4    8\n",
      "(3)  3    9   27\n",
      "(4)  4   16   64\n"
     ]
    }
   ],
   "source": [
    "#Q2\n",
    "import pandas as pd \n",
    "\n",
    "df = pd.DataFrame(columns=[\"a\", \"a^2\", \"a^3\"])\n",
    "for i in range(1,5):\n",
    "    df.loc[f\"({i})\"] = [i,i**2,i**3]  #loc[列 , 欄]：可採用單一/連續範圍/[不連續多個]\n",
    "\n",
    "print(df)"
   ]
  },
  {
   "cell_type": "code",
   "execution_count": null,
   "metadata": {},
   "outputs": [
    {
     "name": "stdout",
     "output_type": "stream",
     "text": [
      "The area for the circle of radius 5 is 78.53975\n"
     ]
    }
   ],
   "source": [
    "#Q3\n",
    "Radius = eval(input(\"Please input the radius: \"))\n",
    "Pi = 3.14159\n",
    "Area = Pi*(Radius**2)\n",
    "print(f\"The area for the circle of radius {Radius} is {Area}\")"
   ]
  },
  {
   "cell_type": "code",
   "execution_count": 9,
   "metadata": {},
   "outputs": [
    {
     "name": "stdout",
     "output_type": "stream",
     "text": [
      "第0年--312033422\n",
      "第1年--314813518\n",
      "第2年--317593615\n",
      "第3年--320373712\n",
      "第4年--323153809\n",
      "第5年--325933906\n"
     ]
    }
   ],
   "source": [
    "#Q4\n",
    "\n",
    "# 7秒一孩子出生\n",
    "# 13秒一人死亡\n",
    "# 45秒一人移入\n",
    "\n",
    "POPULATION = 312033422\n",
    "\n",
    "for i in range(0,6):\n",
    "    totalSeconds = 86400*365*i\n",
    "    born = totalSeconds//7\n",
    "    die = totalSeconds//13\n",
    "    move = totalSeconds//45\n",
    "    new_population = POPULATION + born + move - die\n",
    "    print(f\"第{i}年--\",end=\"\")\n",
    "    print(new_population)\n",
    "\n"
   ]
  },
  {
   "cell_type": "code",
   "execution_count": 44,
   "metadata": {},
   "outputs": [
    {
     "name": "stdout",
     "output_type": "stream",
     "text": [
      "55.0:20155.0:483728.0h:29023713.0m:17.350192546844482s\n"
     ]
    }
   ],
   "source": [
    "#Q5\n",
    "import time\n",
    "\n",
    "nowSeconds = time.time()\n",
    "years = nowSeconds//(3600*24*365)\n",
    "days = nowSeconds//(3600*24)\n",
    "hours = nowSeconds//3600\n",
    "minutes = nowSeconds//60\n",
    "seconds = nowSeconds%60\n",
    "print(f\"{years}:{days}:{hours}h:{minutes}m:{seconds}s\")"
   ]
  },
  {
   "cell_type": "code",
   "execution_count": 56,
   "metadata": {},
   "outputs": [
    {
     "name": "stdout",
     "output_type": "stream",
     "text": [
      "8:41:5\n"
     ]
    }
   ],
   "source": [
    "#Q5\n",
    "import time\n",
    "\n",
    "nowSeconds = time.time()\n",
    "GMT_time = time.gmtime(nowSeconds)\n",
    "print(f\"{GMT_time.tm_hour}:{GMT_time.tm_min}:{GMT_time.tm_sec}\")"
   ]
  }
 ],
 "metadata": {
  "kernelspec": {
   "display_name": "base",
   "language": "python",
   "name": "python3"
  },
  "language_info": {
   "codemirror_mode": {
    "name": "ipython",
    "version": 3
   },
   "file_extension": ".py",
   "mimetype": "text/x-python",
   "name": "python",
   "nbconvert_exporter": "python",
   "pygments_lexer": "ipython3",
   "version": "3.12.7"
  }
 },
 "nbformat": 4,
 "nbformat_minor": 2
}
