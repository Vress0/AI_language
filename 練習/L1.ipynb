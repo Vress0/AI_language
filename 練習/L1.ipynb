{
 "cells": [
  {
   "cell_type": "code",
   "execution_count": 3,
   "id": "2e804992",
   "metadata": {},
   "outputs": [
    {
     "name": "stdout",
     "output_type": "stream",
     "text": [
      "[1, 2, 3, 4, 5, 6]\n",
      "['hi', 'hi', 'hi', 'hi']\n"
     ]
    }
   ],
   "source": [
    "a = [1,2,3]+[4,5,6]\n",
    "print(a)\n",
    "\n",
    "b = [\"hi\"]*4\n",
    "print(b)"
   ]
  },
  {
   "cell_type": "code",
   "execution_count": 8,
   "id": "1fb2214c",
   "metadata": {},
   "outputs": [
    {
     "name": "stdout",
     "output_type": "stream",
     "text": [
      "4\n",
      "5\n",
      "[2, 3]\n",
      "[2, 3, 4, 5, 6]\n",
      "[1, 2, 3]\n"
     ]
    }
   ],
   "source": [
    "a = [1,2,3,4,5,6]\n",
    "print(a[3])\n",
    "print(a[-2])\n",
    "print(a[1:3])\n",
    "print(a[1:])\n",
    "print(a[:3])"
   ]
  },
  {
   "cell_type": "code",
   "execution_count": 9,
   "id": "77b9e1aa",
   "metadata": {},
   "outputs": [
    {
     "name": "stdout",
     "output_type": "stream",
     "text": [
      "index:0, apple\n",
      "index:1, banana\n",
      "index:2, cherry\n"
     ]
    }
   ],
   "source": [
    "fruits = [\"apple\",\"banana\",\"cherry\"]\n",
    "\n",
    "for i ,fruit in enumerate(fruits):\n",
    "    print(f\"index:{i}, {fruit}\")\n"
   ]
  },
  {
   "cell_type": "code",
   "execution_count": 26,
   "id": "d0cc74ab",
   "metadata": {},
   "outputs": [
    {
     "name": "stdout",
     "output_type": "stream",
     "text": [
      "[1, 3, 4, 5, 6, 4, 5]\n",
      "[1, 3, 5, 6, 4, 5]\n"
     ]
    }
   ],
   "source": [
    "c = [1,2,3,4,5,6,4,5]\n",
    "c.pop(1)\n",
    "print(c)\n",
    "c.remove(4)\n",
    "print(c)"
   ]
  },
  {
   "cell_type": "code",
   "execution_count": null,
   "id": "89906734",
   "metadata": {},
   "outputs": [
    {
     "name": "stdout",
     "output_type": "stream",
     "text": [
      "5\n",
      "5\n",
      "29\n",
      "5\n"
     ]
    }
   ],
   "source": [
    "#不可變\n",
    "x = 5\n",
    "y = x\n",
    "print(x)\n",
    "print(y)\n",
    "x = 29\n",
    "print(x)\n",
    "print(y)\n"
   ]
  },
  {
   "cell_type": "code",
   "execution_count": 29,
   "id": "cb07e1b4",
   "metadata": {},
   "outputs": [
    {
     "name": "stdout",
     "output_type": "stream",
     "text": [
      "[2, 4, 6]\n",
      "[2, 4, 6]\n",
      "[99, 4, 6]\n",
      "[99, 4, 6]\n"
     ]
    }
   ],
   "source": [
    "#可變\n",
    "a = [2,4,6]\n",
    "b = a\n",
    "print(a)\n",
    "print(b)\n",
    "a[0] = 99 \n",
    "print(a)\n",
    "print(b)\n"
   ]
  }
 ],
 "metadata": {
  "kernelspec": {
   "display_name": "base",
   "language": "python",
   "name": "python3"
  },
  "language_info": {
   "codemirror_mode": {
    "name": "ipython",
    "version": 3
   },
   "file_extension": ".py",
   "mimetype": "text/x-python",
   "name": "python",
   "nbconvert_exporter": "python",
   "pygments_lexer": "ipython3",
   "version": "3.12.7"
  }
 },
 "nbformat": 4,
 "nbformat_minor": 5
}
