{
 "cells": [
  {
   "cell_type": "code",
   "execution_count": null,
   "id": "175f6467",
   "metadata": {},
   "outputs": [
    {
     "name": "stdout",
     "output_type": "stream",
     "text": [
      "正常\n"
     ]
    }
   ],
   "source": [
    "# Q9\n",
    "weight = eval(input(\"體重(pounds)\"))\n",
    "height = eval(input(\"身高(inches)\"))\n",
    "\n",
    "weight = weight*0.45359237\n",
    "height = height*0.0254\n",
    "\n",
    "BMI = weight/height**2\n",
    "\n",
    "if BMI>=30:\n",
    "    print(\"肥胖\")\n",
    "elif BMI >=25 and BMI<=29.9:\n",
    "    print(\"過重\")\n",
    "elif BMI >=18.5 and BMI <= 24.9:\n",
    "    print(\"正常\")\n",
    "else:\n",
    "    print(\"體重不足\")"
   ]
  },
  {
   "cell_type": "code",
   "execution_count": 38,
   "id": "96c87df2",
   "metadata": {},
   "outputs": [
    {
     "name": "stdout",
     "output_type": "stream",
     "text": [
      "5\n"
     ]
    }
   ],
   "source": [
    "# Q10\n",
    "\n",
    "def get_odds():\n",
    "    count = 0\n",
    "    n = eval(input())\n",
    "    for i in range(1,n,2):\n",
    "        count +=1 \n",
    "\n",
    "        if count == 3:\n",
    "            print(i)\n",
    "get_odds()"
   ]
  },
  {
   "cell_type": "code",
   "execution_count": null,
   "id": "13198059",
   "metadata": {},
   "outputs": [],
   "source": [
    "import time \n",
    "\n",
    "def test(func):\n",
    "    def wrapper():\n",
    "        "
   ]
  },
  {
   "cell_type": "code",
   "execution_count": null,
   "id": "1739fe81",
   "metadata": {},
   "outputs": [
    {
     "name": "stdout",
     "output_type": "stream",
     "text": [
      "2\n",
      "dict_keys(['john', 'abb'])\n",
      "<built-in method values of dict object at 0x000001823B574580>\n",
      "<built-in method items of dict object at 0x000001823B574580>\n"
     ]
    }
   ],
   "source": [
    "student = {\"john\":3,\"abb\":2}\n",
    "print(len(student))\n",
    "print(student.keys)\n",
    "print(student.values)\n",
    "print(student.items)"
   ]
  },
  {
   "cell_type": "code",
   "execution_count": null,
   "id": "b21d8a3c",
   "metadata": {},
   "outputs": [],
   "source": []
  }
 ],
 "metadata": {
  "kernelspec": {
   "display_name": "base",
   "language": "python",
   "name": "python3"
  },
  "language_info": {
   "codemirror_mode": {
    "name": "ipython",
    "version": 3
   },
   "file_extension": ".py",
   "mimetype": "text/x-python",
   "name": "python",
   "nbconvert_exporter": "python",
   "pygments_lexer": "ipython3",
   "version": "3.12.7"
  }
 },
 "nbformat": 4,
 "nbformat_minor": 5
}
