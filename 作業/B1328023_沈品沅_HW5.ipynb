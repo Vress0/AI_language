{
 "cells": [
  {
   "cell_type": "code",
   "execution_count": null,
   "metadata": {},
   "outputs": [],
   "source": [
    "# Q1\n",
    "def good():\n",
    "    list = [\"Ha0ry\",\"Ron\",\"Hermione\"]\n",
    "    return list"
   ]
  },
  {
   "cell_type": "code",
   "execution_count": 4,
   "metadata": {},
   "outputs": [
    {
     "name": "stdout",
     "output_type": "stream",
     "text": [
      "5\n"
     ]
    }
   ],
   "source": [
    "# Q2\n",
    "def get_odd(n):\n",
    "    for i in range(n):\n",
    "        if i % 2 != 0:\n",
    "            yield i\n",
    "\n",
    "count = 0\n",
    "n = 10\n",
    "for i in get_odd(n):\n",
    "    count += 1\n",
    "    if count == 3:\n",
    "        print(i)\n"
   ]
  },
  {
   "cell_type": "code",
   "execution_count": null,
   "metadata": {},
   "outputs": [
    {
     "name": "stdout",
     "output_type": "stream",
     "text": [
      "接到 func add\n",
      "Start\n",
      "add 執行結果 = 10\n",
      "End\n",
      "執行時間 =  2.000209331512451\n"
     ]
    }
   ],
   "source": [
    "# Q3\n",
    "import time\n",
    "\n",
    "def test(func):\n",
    "    print('接到 func', func.__name__)\n",
    "    def wrapper(*args, **kwargs):\n",
    "        # 這裡以後會放我們想做的事\n",
    "        print(\"Start\")\n",
    "        t1 = time.time()\n",
    "        result = func(*args, **kwargs)  # 執行原本的函式\n",
    "        print(func.__name__, '執行結果 =', result)\n",
    "        print(\"End\")\n",
    "        t2 = time.time()\n",
    "        print(\"執行時間 = \", t2 - t1)\n",
    "\n",
    "    return wrapper\n",
    "\n",
    "    \n",
    "@test\n",
    "def add(a,b):\n",
    "    time.sleep(2)\n",
    "    return a + b\n",
    "add(1,9)\n",
    "    "
   ]
  },
  {
   "cell_type": "code",
   "execution_count": 10,
   "metadata": {},
   "outputs": [
    {
     "name": "stdout",
     "output_type": "stream",
     "text": [
      "卡號 4388576018410707 通過驗證，為有效卡號。\n"
     ]
    }
   ],
   "source": [
    "# Q4\n",
    "def getSize(d):\n",
    "    \"\"\"\n",
    "    回傳卡號 d 的位數，將 d 轉為字串後計算長度\n",
    "    \"\"\"\n",
    "    return len(str(d))\n",
    "\n",
    "\n",
    "def isValid(card_number):\n",
    "    \"\"\"\n",
    "    回傳這個卡號是否符合：\n",
    "    1. 卡號長度介於 13 ~ 16 位數\n",
    "    2. 開頭為 4(Visa), 5(Master), 6(Discover) 或前兩位為 37(AmEx)\n",
    "    3. 通過 Luhn 驗證\n",
    "    \"\"\"\n",
    "    num_str = str(card_number)\n",
    "\n",
    "    # 檢查卡號長度\n",
    "    if getSize(num_str) < 13 or getSize(num_str) > 16:\n",
    "        return False\n",
    "\n",
    "    # 檢查卡號開頭\n",
    "    if not (prefixMatched(num_str, \"4\") or \n",
    "            prefixMatched(num_str, \"5\") or \n",
    "            prefixMatched(num_str, \"6\") or \n",
    "            prefixMatched(num_str, \"37\")):\n",
    "        return False\n",
    "\n",
    "    # Luhn 驗證\n",
    "    total_sum = sumOfDoubleEvenPlace(num_str) + sumOfOddPlace(num_str)\n",
    "    return (total_sum % 10 == 0)\n",
    "\n",
    "\n",
    "def sumOfDoubleEvenPlace(num_str):\n",
    "    \"\"\"\n",
    "    由右到左，將『偶數位』(index 從右數，第2,4,6... 位) 的數字乘以 2。\n",
    "    若結果 >= 10，則將其兩位數字相加 (例如 12 -> 1 + 2 = 3)。\n",
    "    最後回傳所有『偶數位』處理後的總和。\n",
    "    \"\"\"\n",
    "    total = 0\n",
    "    for i in range(len(num_str) - 2, -1, -2):\n",
    "        digit = int(num_str[i]) * 2\n",
    "        total += getDigit(digit)\n",
    "    return total\n",
    "\n",
    "\n",
    "def sumOfOddPlace(num_str):\n",
    "    \"\"\"\n",
    "    由右到左，將『奇數位』(第1,3,5... 位) 的數字直接加總。\n",
    "    \"\"\"\n",
    "    total = 0\n",
    "    for i in range(len(num_str) - 1, -1, -2):\n",
    "        total += int(num_str[i])\n",
    "    return total\n",
    "\n",
    "\n",
    "def getDigit(number):\n",
    "    \"\"\"\n",
    "    若 number < 10，直接回傳 number。\n",
    "    若 number >= 10，則將其兩位數字相加後回傳 (例如 12 -> 1 + 2 = 3)。\n",
    "    \"\"\"\n",
    "    if number < 10:\n",
    "        return number\n",
    "    else:\n",
    "        return (number // 10) + (number % 10)\n",
    "\n",
    "\n",
    "def prefixMatched(num_str, d):\n",
    "    \"\"\"\n",
    "    檢查 num_str 是否以字串 d 為開頭 (prefix)\n",
    "    \"\"\"\n",
    "    return num_str.startswith(d)\n",
    "\n",
    "\n",
    "if __name__ == \"__main__\":\n",
    "    # 讓使用者自行輸入卡號\n",
    "    card_number = input(\"請輸入信用卡號：\").strip()\n",
    "    \n",
    "    if isValid(card_number):\n",
    "        print(f\"卡號 {card_number} 通過驗證，為有效卡號。\")\n",
    "    else:\n",
    "        print(f\"卡號 {card_number} 未通過驗證。\")\n"
   ]
  },
  {
   "cell_type": "code",
   "execution_count": 18,
   "metadata": {},
   "outputs": [
    {
     "name": "stdout",
     "output_type": "stream",
     "text": [
      "True\n"
     ]
    }
   ],
   "source": [
    "# Q5\n",
    "def reverse(number):\n",
    "    return number[::-1]\n",
    "def isPalindrome(number):\n",
    "    if number == reverse(number):\n",
    "        return True\n",
    "    else:\n",
    "        return False\n",
    "    \n",
    "number = input()\n",
    "print(isPalindrome(number))"
   ]
  }
 ],
 "metadata": {
  "kernelspec": {
   "display_name": "base",
   "language": "python",
   "name": "python3"
  },
  "language_info": {
   "codemirror_mode": {
    "name": "ipython",
    "version": 3
   },
   "file_extension": ".py",
   "mimetype": "text/x-python",
   "name": "python",
   "nbconvert_exporter": "python",
   "pygments_lexer": "ipython3",
   "version": "3.12.7"
  }
 },
 "nbformat": 4,
 "nbformat_minor": 2
}
