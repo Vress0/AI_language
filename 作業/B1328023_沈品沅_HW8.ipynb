{
 "cells": [
  {
   "cell_type": "code",
   "execution_count": null,
   "id": "241eaa57",
   "metadata": {},
   "outputs": [
    {
     "name": "stdout",
     "output_type": "stream",
     "text": [
      "=====(a)=====\n",
      "[[3 4 7]\n",
      " [2 3 1]\n",
      " [4 3 7]]\n",
      "=====(b)=====\n",
      "[[2 2 2]\n",
      " [2 2 2]\n",
      " [2 2 2]]\n",
      "=====(c)=====\n",
      "[[ 1  2  3  4  5  6]\n",
      " [ 7  8  9 10 11 12]]\n",
      "=====(d)=====\n",
      "[[ 6  8 14]\n",
      " [ 4  6  2]\n",
      " [ 8  6 14]]\n",
      "=====(e)=====\n",
      "[[50 64]\n",
      " [16 22]\n",
      " [48 62]]\n"
     ]
    }
   ],
   "source": [
    "#Q1\n",
    "\n",
    "import numpy as np\n",
    "import random\n",
    "#a\n",
    "print(\"=====(a)=====\")\n",
    "# 語法：np.random.randint(low, high, size)\n",
    "A = np.random.randint(1,10,size=(3,3))\n",
    "print(A )\n",
    "#b\n",
    "print(\"=====(b)=====\")\n",
    "# 語法 np.full(shape, fill_value)\n",
    "B = np.full((3,3),2)\n",
    "print(B)\n",
    "#c\n",
    "print(\"=====(c)=====\")\n",
    "# 語法：np.arange(start, stop).reshape(new_shape)\n",
    "C = np.arange(1,13).reshape((2,6))\n",
    "print(C)\n",
    "#d\n",
    "print(\"=====(d)=====\")\n",
    "print(A*B)\n",
    "#e\n",
    "print(\"=====(e)=====\")\n",
    "C = np.arange(1,7).reshape((3,2))\n",
    "print(np.dot(A,C))\n",
    "#f\n",
    "print(\"=====(f)=====\")\n"
   ]
  }
 ],
 "metadata": {
  "kernelspec": {
   "display_name": "base",
   "language": "python",
   "name": "python3"
  },
  "language_info": {
   "codemirror_mode": {
    "name": "ipython",
    "version": 3
   },
   "file_extension": ".py",
   "mimetype": "text/x-python",
   "name": "python",
   "nbconvert_exporter": "python",
   "pygments_lexer": "ipython3",
   "version": "3.12.7"
  }
 },
 "nbformat": 4,
 "nbformat_minor": 5
}
