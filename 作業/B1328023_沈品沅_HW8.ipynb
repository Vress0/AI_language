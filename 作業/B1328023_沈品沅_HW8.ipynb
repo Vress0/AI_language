{
 "cells": [
  {
   "cell_type": "code",
   "execution_count": 4,
   "id": "241eaa57",
   "metadata": {},
   "outputs": [
    {
     "name": "stdout",
     "output_type": "stream",
     "text": [
      "=====(a)=====\n",
      "[[29  5  9]\n",
      " [14 20 16]\n",
      " [16  6 21]]\n",
      "=====(b)=====\n",
      "[[2 2 2]\n",
      " [2 2 2]\n",
      " [2 2 2]]\n",
      "=====(c)=====\n",
      "[[ 1  2  3  4  5  6]\n",
      " [ 7  8  9 10 11 12]]\n",
      "=====(d)=====\n",
      "[[58 10 18]\n",
      " [28 40 32]\n",
      " [32 12 42]]\n",
      "=====(e)=====\n",
      "[[ 89 132]\n",
      " [154 204]\n",
      " [139 182]]\n",
      "=====(f)=====\n",
      "15.11111111111111\n",
      "=====(g)=====\n",
      "29\n"
     ]
    }
   ],
   "source": [
    "#Q1\n",
    "\n",
    "import numpy as np\n",
    "import random\n",
    "#a\n",
    "print(\"=====(a)=====\")\n",
    "# 語法：np.random.randint(low, high, size)\n",
    "A = np.random.randint(1,30,size=(3,3))\n",
    "print(A)\n",
    "#b\n",
    "print(\"=====(b)=====\")\n",
    "# 語法 np.full(shape, fill_value)\n",
    "B = np.full((3,3),2)\n",
    "print(B)\n",
    "#c\n",
    "print(\"=====(c)=====\")\n",
    "# 語法：np.arange(start, stop).reshape(new_shape)\n",
    "C = np.arange(1,13).reshape((2,6))\n",
    "print(C)\n",
    "#d\n",
    "print(\"=====(d)=====\")\n",
    "print(A*B)\n",
    "#e\n",
    "print(\"=====(e)=====\")\n",
    "C = np.arange(1,7).reshape((3,2))\n",
    "print(np.dot(A,C))\n",
    "#f\n",
    "print(\"=====(f)=====\")\n",
    "mean = np.mean(A)\n",
    "print(mean)\n",
    "#g\n",
    "print(\"=====(g)=====\")\n",
    "max = A.max()\n",
    "print(max)\n",
    "#\n"
   ]
  }
 ],
 "metadata": {
  "kernelspec": {
   "display_name": "base",
   "language": "python",
   "name": "python3"
  },
  "language_info": {
   "codemirror_mode": {
    "name": "ipython",
    "version": 3
   },
   "file_extension": ".py",
   "mimetype": "text/x-python",
   "name": "python",
   "nbconvert_exporter": "python",
   "pygments_lexer": "ipython3",
   "version": "3.12.7"
  }
 },
 "nbformat": 4,
 "nbformat_minor": 5
}
