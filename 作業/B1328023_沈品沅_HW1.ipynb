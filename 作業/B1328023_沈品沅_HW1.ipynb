{
 "cells": [
  {
   "cell_type": "code",
   "execution_count": 9,
   "metadata": {},
   "outputs": [
    {
     "name": "stdout",
     "output_type": "stream",
     "text": [
      "Welcome to Python\n",
      "Welcome to Computer\n",
      "Welcome to AI\n",
      "Programming is fun\n"
     ]
    }
   ],
   "source": [
    "#Q1\n",
    "print(\"Welcome to Python\")\n",
    "print(\"Welcome to Computer\")\n",
    "print(\"Welcome to AI\")\n",
    "print(\"Programming is fun\")"
   ]
  },
  {
   "cell_type": "code",
   "execution_count": 1,
   "metadata": {},
   "outputs": [
    {
     "name": "stdout",
     "output_type": "stream",
     "text": [
      "a\ta^2\ta^3\n",
      "\n",
      "1\t1\t1\n",
      "\n",
      "2\t4\t8\n",
      "\n",
      "3\t9\t27\n",
      "\n",
      "4\t16\t64\n",
      "\n"
     ]
    }
   ],
   "source": [
    "#Q2\n",
    "# import pandas as pd \n",
    "\n",
    "# df = pd.DataFrame(columns=[\"a\", \"a^2\", \"a^3\"])\n",
    "# for i in range(1,5):\n",
    "#     df.loc[f\"({i})\"] = [i,i**2,i**3]  #loc[列 , 欄]：可採用單一/連續範圍/[不連續多個]\n",
    "\n",
    "# print(df)\n",
    "\n",
    "print('a\\ta^2\\ta^3\\n')\n",
    "for i in range(1,5):\n",
    "    print(str(i)+'\\t'+str(i**2)+'\\t'+str(i**3)+'\\n')"
   ]
  },
  {
   "cell_type": "code",
   "execution_count": 4,
   "metadata": {},
   "outputs": [
    {
     "name": "stdout",
     "output_type": "stream",
     "text": [
      "The area for the circle of radius 5 is 78.53975\n"
     ]
    }
   ],
   "source": [
    "#Q3\n",
    "Radius = eval(input(\"Please input the radius: \"))\n",
    "Pi = 3.14159\n",
    "Area = Pi*(Radius**2)\n",
    "print(f\"The area for the circle of radius {Radius} is {Area}\")"
   ]
  },
  {
   "cell_type": "code",
   "execution_count": 1,
   "metadata": {},
   "outputs": [
    {
     "name": "stdout",
     "output_type": "stream",
     "text": [
      "第0年--312033422\n",
      "第1年--314813518\n",
      "第2年--317593615\n",
      "第3年--320373712\n",
      "第4年--323153809\n",
      "第5年--325933906\n"
     ]
    }
   ],
   "source": [
    "#Q4\n",
    "\n",
    "# 7秒一孩子出生\n",
    "# 13秒一人死亡\n",
    "# 45秒一人移入\n",
    "\n",
    "POPULATION = 312033422\n",
    "\n",
    "for i in range(0,6):\n",
    "    totalSeconds = 86400*365*i\n",
    "    born = totalSeconds//7\n",
    "    die = totalSeconds//13\n",
    "    move = totalSeconds//45\n",
    "    new_population = POPULATION + born + move - die\n",
    "    print(f\"第{i}年--\",end=\"\")\n",
    "    print(new_population)\n"
   ]
  },
  {
   "cell_type": "code",
   "execution_count": 3,
   "metadata": {},
   "outputs": [
    {
     "name": "stdout",
     "output_type": "stream",
     "text": [
      "5:47:17\n"
     ]
    }
   ],
   "source": [
    "#Q5\n",
    "import time\n",
    "\n",
    "nowSeconds = time.time()\n",
    "GMT_time = time.gmtime(nowSeconds)\n",
    "#print(GMT_time)\n",
    "print(f\"{GMT_time.tm_hour}:{GMT_time.tm_min}:{GMT_time.tm_sec}\")"
   ]
  }
 ],
 "metadata": {
  "kernelspec": {
   "display_name": "base",
   "language": "python",
   "name": "python3"
  },
  "language_info": {
   "codemirror_mode": {
    "name": "ipython",
    "version": 3
   },
   "file_extension": ".py",
   "mimetype": "text/x-python",
   "name": "python",
   "nbconvert_exporter": "python",
   "pygments_lexer": "ipython3",
   "version": "3.12.7"
  }
 },
 "nbformat": 4,
 "nbformat_minor": 2
}
