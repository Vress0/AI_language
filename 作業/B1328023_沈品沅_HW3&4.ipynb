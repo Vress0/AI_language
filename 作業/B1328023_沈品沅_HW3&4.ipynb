{
 "cells": [
  {
   "cell_type": "markdown",
   "metadata": {},
   "source": [
    "## Q1\n",
    "請撰寫一程式，讀取一行中以空白間隔的數值，並顯示不同的數值（若一數值出現多次時，則只顯示出一次）。\n",
    "（提示：讀取所有的數字，並將它儲存於 list1 串列中，建立一新的串列 list2，將串列 list1 的數字加到 list2，若數字已存在於串列中，則加以忽略之。）"
   ]
  },
  {
   "cell_type": "code",
   "execution_count": 20,
   "metadata": {},
   "outputs": [
    {
     "name": "stdout",
     "output_type": "stream",
     "text": [
      "The unique numbers are: ['1']\n"
     ]
    }
   ],
   "source": [
    "#Q1\n",
    "line = input(\"Please enter some number: \")\n",
    "list1 = line.split() # 用空白分隔字串\n",
    "\n",
    "list2 = [] # 用來裝不重複的數字\n",
    "\n",
    "for num in list1:\n",
    "    if num not in list2:\n",
    "        list2.append(num)\n",
    "    \n",
    "print(\"The unique numbers are:\", list2)"
   ]
  },
  {
   "cell_type": "markdown",
   "metadata": {},
   "source": [
    "## Q2\n",
    "讀取一些介於 1 到 100 的整數，並計算每個數值出現的次數。\n",
    "如果數字出現超過一次，輸出 X occurs Y times，否則就 X occurs 1 time。"
   ]
  },
  {
   "cell_type": "code",
   "execution_count": 3,
   "metadata": {},
   "outputs": [
    {
     "name": "stdout",
     "output_type": "stream",
     "text": [
      "2 occurs 4 times\n",
      "5 occurs 4 times\n",
      "6 occurs 2 times\n",
      "4 occurs 2 times\n",
      "3 occurs 2 times\n",
      "23 occurs 2 times\n",
      "43 occurs 2 times\n"
     ]
    }
   ],
   "source": [
    "#Q2\n",
    "\n",
    "line = input(\"Enter integers between 1 and 100: \")\n",
    "\n",
    "list1 = line.split() # 先把輸入拆成串列,再轉成整數\n",
    "\n",
    "numbers = []\n",
    "for num in list1:\n",
    "    num = int(num)\n",
    "    numbers.append(num)\n",
    "\n",
    "counted = [] # 建立一個空的串列，用來記住已經算過的數字\n",
    "\n",
    "for num in numbers:\n",
    "    if num not in counted:\n",
    "        times = 0\n",
    "        for x in numbers:\n",
    "            if x == num:\n",
    "                times += 1\n",
    "\n",
    "        if times == 1:\n",
    "            print(f\"{num} occurs 1 time\")\n",
    "        else:\n",
    "            print(f\"{num} occurs {times} times\")\n",
    "        counted.append(num) # 把已經算過的數字加入串列"
   ]
  },
  {
   "cell_type": "markdown",
   "metadata": {},
   "source": [
    "## Q3"
   ]
  },
  {
   "cell_type": "code",
   "execution_count": 5,
   "metadata": {},
   "outputs": [
    {
     "ename": "ValueError",
     "evalue": "invalid literal for int() with base 10: 'c'",
     "output_type": "error",
     "traceback": [
      "\u001b[1;31m---------------------------------------------------------------------------\u001b[0m",
      "\u001b[1;31mValueError\u001b[0m                                Traceback (most recent call last)",
      "Cell \u001b[1;32mIn[5], line 9\u001b[0m\n\u001b[0;32m      7\u001b[0m scores \u001b[38;5;241m=\u001b[39m []\n\u001b[0;32m      8\u001b[0m \u001b[38;5;28;01mfor\u001b[39;00m num \u001b[38;5;129;01min\u001b[39;00m list1:\n\u001b[1;32m----> 9\u001b[0m     num \u001b[38;5;241m=\u001b[39m \u001b[38;5;28mint\u001b[39m(num)\n\u001b[0;32m     10\u001b[0m     scores\u001b[38;5;241m.\u001b[39mappend(num)\n\u001b[0;32m     12\u001b[0m best \u001b[38;5;241m=\u001b[39m \u001b[38;5;28mmax\u001b[39m(scores) \u001b[38;5;66;03m#find the best score\u001b[39;00m\n",
      "\u001b[1;31mValueError\u001b[0m: invalid literal for int() with base 10: 'c'"
     ]
    }
   ],
   "source": [
    "#Q3\n",
    "\n",
    "line =input(\"please enter scores: \")\n",
    "\n",
    "list1 = line.split() # 先把輸入拆成串列,再轉成整數\n",
    "\n",
    "scores = []\n",
    "for num in list1:\n",
    "    num = int(num)\n",
    "    scores.append(num)\n",
    "\n",
    "best = max(scores) #find the best score\n",
    "\n",
    "for i in range(len(scores)): # 就是這個 list 裡的長度（= 幾個元素）\n",
    "    score = scores[i]\n",
    "\n",
    "    if score >= best - 10:\n",
    "        grade = 'A'\n",
    "    elif score >= best - 20:\n",
    "        grade = 'B'\n",
    "    elif score >= best - 30:\n",
    "        grade = 'C'\n",
    "    elif score >= best - 40:\n",
    "        grade = 'D'\n",
    "    else:\n",
    "        grade = 'F'\n",
    "\n",
    "    print(f\"Student {i} score is {score} and grade is {grade}\")"
   ]
  },
  {
   "cell_type": "markdown",
   "metadata": {},
   "source": [
    "## Q4"
   ]
  },
  {
   "cell_type": "code",
   "execution_count": 2,
   "metadata": {},
   "outputs": [
    {
     "name": "stdout",
     "output_type": "stream",
     "text": [
      "(1) Total # of words: 6899\n",
      "(2) Total # of word's type: 1994\n",
      "(3) Top 3 frequent words:\n",
      "    the -> 553\n",
      "    of -> 409\n",
      "    a -> 214\n",
      "(4) First 3 unique words in lexical order:\n",
      "    able\n",
      "    absolute\n",
      "    accept\n",
      "(5) Character counts (a-z, 0-9):\n",
      "    0 -> 19\n",
      "    1 -> 80\n",
      "    2 -> 19\n",
      "    3 -> 15\n",
      "    4 -> 15\n",
      "    5 -> 26\n",
      "    6 -> 18\n",
      "    7 -> 18\n",
      "    8 -> 18\n",
      "    9 -> 54\n",
      "    a -> 2650\n",
      "    b -> 467\n",
      "    c -> 1238\n",
      "    d -> 1040\n",
      "    e -> 4184\n",
      "    f -> 844\n",
      "    g -> 538\n",
      "    h -> 1681\n",
      "    i -> 2576\n",
      "    j -> 72\n",
      "    k -> 176\n",
      "    l -> 1389\n",
      "    m -> 867\n",
      "    n -> 2357\n",
      "    o -> 2614\n",
      "    p -> 646\n",
      "    q -> 42\n",
      "    r -> 2099\n",
      "    s -> 2229\n",
      "    t -> 3098\n",
      "    u -> 769\n",
      "    v -> 476\n",
      "    w -> 438\n",
      "    x -> 68\n",
      "    y -> 561\n",
      "    z -> 21\n",
      "    à -> 3\n",
      "    ç -> 1\n",
      "    é -> 3\n",
      "    ë -> 1\n",
      "    ï -> 2\n"
     ]
    }
   ],
   "source": [
    "#Q4\n",
    "from collections import Counter\n",
    "import re\n",
    "\n",
    "# 將提供的文章貼上來\n",
    "text = '''Novel, an invented prose narrative of considerable length and a certain complexity that deals imaginatively with human experience, usually through a connected sequence of events involving a group of persons in a specific setting. Within its broad framework, the genre of the novel has encompassed an extensive range of types and styles: picaresque, epistolary, Gothic, romantic, realist, historical—to name only some of the more important ones.\n",
    "The novel is a genre of fiction, and fiction may be defined as the art or craft of contriving, through the written word, representations of human life that instruct or divert or both. The various forms that fiction may take are best seen less as a number of separate categories than as a continuum or, more accurately, a cline, with some such brief form as the anecdote at one end of the scale and the longest conceivable novel at the other. When any piece of fiction is long enough to constitute a whole book, as opposed to a mere part of a book, then it may be said to have achieved novelhood. But this state admits of its own quantitative categories, so that a relatively brief novel may be termed a novella (or, if the insubstantiality of the content matches its brevity, a novelette), and a very long novel may overflow the banks of a single volume and become a roman-fleuve, or river novel. Length is very much one of the dimensions of the genre.\n",
    "The term novel is a truncation of the Italian word novella (from the plural of Latin novellus, a late variant of novus, meaning “new”), so that what is now, in most languages, a diminutive denotes historically the parent form. The novella was a kind of enlarged anecdote like those to be found in the 14th-century Italian classic Boccaccio’s Decameron, each of which exemplifies the etymology well enough. The stories are little new things, novelties, freshly minted diversions, toys; they are not reworkings of known fables or myths, and they are lacking in weight and moral earnestness. It is to be noted that, despite the high example of novelists of the most profound seriousness, such as Tolstoy, Henry James, and Virginia Woolf, the term novel still, in some quarters, carries overtones of lightness and frivolity. And it is possible to descry a tendency to triviality in the form itself. The ode or symphony seems to possess an inner mechanism that protects it from aesthetic or moral corruption, but the novel can descend to shameful commercial depths of sentimentality or pornography. It is the purpose of this section to consider the novel not solely in terms of great art but also as an all-purpose medium catering for all the strata of literacy.\n",
    "Such early ancient Roman fiction as Petronius’ Satyricon of the 1st century AD and Lucius Apuleius’ Golden Ass of the 2nd century contain many of the popular elements that distinguish the novel from its nobler born relative the epic poem. In the fictional works, the medium is prose, the events described are unheroic, the settings are streets and taverns, not battlefields and palaces. There is more low fornication than princely combat; the gods do not move the action; the dialogue is homely rather than aristocratic. It was, in fact, out of the need to find—in the period of Roman decline—a literary form that was anti-epic in both substance and language that the first prose fiction of Europe seems to have been conceived. The most memorable character in Petronius is a nouveau riche vulgarian; the hero of Lucius Apuleius is turned into a donkey; nothing less epic can well be imagined. The medieval chivalric romance (from a popular Latin word, probably Romanice, meaning written in the vernacular, not in traditional Latin) restored a kind of epic view of man—though now as heroic Christian, not heroic pagan. At the same time, it bequeathed its name to the later genre of continental literature, the novel, which is known in French as roman, in Italian as romanzo, etc. (The English term romance, however, carries a pejorative connotation.) But that later genre achieved its first great flowering in Spain at the beginning of the 17th century in an antichivalric comic masterpiece—the Don Quixote of Cervantes, which, on a larger scale than the Satyricon or The Golden Ass, contains many of the elements that have been expected from prose fiction ever since. Novels have heroes, but not in any classical or medieval sense. As for the novelist, he must, in the words of the contemporary British-American W.H. Auden, \n",
    "Become the whole of boredom, subject to Vulgar complaints like love, among the Just\n",
    "Be just, among the Filthy filthy too, And in his own weak person, if he can, Must suffer dully all the wrongs of Man.\n",
    "The novel attempts to assume those burdens of life that have no place in the epic poem and to see man as unheroic, unredeemed, imperfect, even absurd. This is why there is room among its practitioners for writers of hardboiled detective thrillers such as the contemporary American Mickey Spillane or of sentimental melodramas such as the prolific 19th-century English novelist Mrs. Henry Wood, but not for one of the unremitting elevation of outlook of a John Milton.\n",
    "Elements\n",
    "Plot\n",
    "The novel is propelled through its hundred or thousand pages by a device known as the story or plot. This is frequently conceived by the novelist in very simple terms, a mere nucleus, a jotting on an old envelope: for example, Charles Dickens’ Christmas Carol (1843) might have been conceived as “a misanthrope is reformed through certain magical visitations on Christmas Eve,” or Jane Austen’s Pride and Prejudice (1813) as “a young couple destined to be married have first to overcome the barriers of pride and prejudice,” or Fyodor Dostoyevsky’s Crime and Punishment (1866) as “a young man commits a crime and is slowly pursued in the direction of his punishment.” The detailed working out of the nuclear idea requires much ingenuity, since the plot of one novel is expected to be somewhat different from that of another, and there are very few basic human situations for the novelist to draw upon. The dramatist may take his plot ready-made from fiction or biography—a form of theft sanctioned by Shakespeare—but the novelist has to produce what look like novelties.\n",
    "The example of Shakespeare is a reminder that the ability to create an interesting plot, or even any plot at all, is not a prerequisite of the imaginative writer’s craft. At the lowest level of fiction, plot need be no more than a string of stock devices for arousing stock responses of concern and excitement in the reader. The reader’s interest may be captured at the outset by the promise of conflicts or mysteries or frustrations that will eventually be resolved, and he will gladly—so strong is his desire to be moved or entertained—suspend criticism of even the most trite modes of resolution. In the least sophisticated fiction, the knots to be untied are stringently physical, and the denouement often comes in a sort of triumphant violence. Serious fiction prefers its plots to be based on psychological situations, and its climaxes come in new states of awareness—chiefly self-knowledge—on the parts of the major characters.\n",
    "Melodramatic plots, plots dependent on coincidence or improbability, are sometimes found in even the most elevated fiction; E.M. Forster’s Howards End (1910) is an example of a classic British novel with such a plot. But the novelist is always faced with the problem of whether it is more important to represent the formlessness of real life (in which there are no beginnings and no ends and very few simple motives for action) or to construct an artifact as well balanced and economical as a table or chair; since he is an artist, the claims of art, or artifice, frequently prevail.\n",
    "There are, however, ways of constructing novels in which plot may play a desultory part or no part at all. The traditional picaresque novel—a novel with a rogue as its central character—like Alain Lesage’s Gil Blas (1715) or Henry Fielding’s Tom Jones (1749), depends for movement on a succession of chance incidents. In the works of Virginia Woolf, the consciousness of the characters, bounded by some poetic or symbolic device, sometimes provides all the fictional material. Marcel Proust’s great roman-fleuve, À la recherche du temps perdu (1913–27; Remembrance of Things Past), has a metaphysical framework derived from the time theories of the philosopher Henri Bergson, and it moves toward a moment of truth that is intended to be literally a revelation of the nature of reality. Strictly, any scheme will do to hold a novel together—raw action, the hidden syllogism of the mystery story, prolonged solipsist contemplation—so long as the actualities or potentialities of human life are credibly expressed, with a consequent sense of illumination, or some lesser mode of artistic satisfaction, on the part of the reader.\n",
    "\n",
    "Character\n",
    "The inferior novelist tends to be preoccupied with plot; to the superior novelist the convolutions of the human personality, under the stress of artfully selected experience, are the chief fascination. Without character it was once accepted that there could be no fiction. In the period since World War II, the creators of what has come to be called the French nouveau roman (i.e., new novel) have deliberately demoted the human element, claiming the right of objects and processes to the writer’s and reader’s prior attention. Thus, in books termed chosiste (literally “thing-ist”), they make the furniture of a room more important than its human incumbents. This may be seen as a transitory protest against the long predominance of character in the novel, but, even on the popular level, there have been indications that readers can be held by things as much as by characters. Henry James could be vague in The Ambassadors (1903) about the provenance of his chief character’s wealth; if he wrote today he would have to give his readers a tour around the factory or estate. The popularity of much undistinguished but popular fiction has nothing to do with its wooden characters; it is machines, procedures, organizations that draw the reader. The success of Ian Fleming’s British spy stories in the 1960s had much to do with their hero, James Bond’s car, gun, and preferred way of mixing a martini.\n",
    "\n",
    "But the true novelists remain creators of characters—prehuman, such as those in William Golding’s Inheritors (1955); animal, as in Henry Williamson’s Tarka the Otter (1927) or Jack London’s Call of the Wild (1903); caricatures, as in much of Dickens; or complex and unpredictable entities, as in Tolstoy, Dostoyevsky, or Henry James. The reader may be prepared to tolerate the most wanton-seeming stylistic tricks and formal difficulties because of the intense interest of the central characters in novels as diverse as James Joyce’s Ulysses (1922) and Finnegans Wake (1939) and Laurence Sterne’s Tristram Shandy (1760–67).\n",
    "\n",
    "It is the task of literary critics to create a value hierarchy of fictional character, placing the complexity of the Shakespearean view of man—as found in the novels of Tolstoy and Joseph Conrad—above creations that may be no more than simple personifications of some single characteristic, like some of those by Dickens. It frequently happens, however, that the common reader prefers surface simplicity—easily memorable cartoon figures like Dickens’ never-despairing Mr. Micawber and devious Uriah Heep—to that wider view of personality, in which character seems to engulf the reader, subscribed to by the great novelists of France and Russia. The whole nature of human identity remains in doubt, and writers who voice that doubt—like the French exponents of the nouveau roman Alain Robbe-Grillet and Nathalie Sarraute, as well as many others—are in effect rejecting a purely romantic view of character. This view imposed the author’s image of himself—the only human image he properly possessed—on the rest of the human world. For the unsophisticated reader of fiction, any created personage with a firm position in time–space and the most superficial parcel of behavioral (or even sartorial) attributes will be taken for a character. Though the critics may regard it as heretical, this tendency to accept a character is in conformity with the usages of real life. The average person has at least a suspicion of his own complexity and inconsistency of makeup, but he sees the rest of the world as composed of much simpler entities. The result is that novels whose characters are created out of the author’s own introspection are frequently rejected as not “true to life.” But both the higher and the lower orders of novel readers might agree in condemning a lack of memorability in the personages of a work of fiction, a failure on the part of the author to seem to add to the reader’s stock of remembered friends and acquaintances. Characters that seem, on recollection, to have a life outside the bounds of the books that contain them are usually the ones that earn their creators the most regard. Depth of psychological penetration, the ability to make a character real as oneself, seems to be no primary criterion of fictional talent.\n",
    "\n",
    "Scene, or setting\n",
    "The makeup and behaviour of fictional characters depend on their environment quite as much as on the personal dynamic with which their author endows them: indeed, in Émile Zola, environment is of overriding importance, since he believed it determined character. The entire action of a novel is frequently determined by the locale in which it is set. Thus, Gustave Flaubert’s Madame Bovary (1857) could hardly have been placed in Paris, because the tragic life and death of the heroine have a great deal to do with the circumscriptions of her provincial milieu. But it sometimes happens that the main locale of a novel assumes an importance in the reader’s imagination comparable to that of the characters and yet somehow separable from them. Wessex is a giant brooding presence in Thomas Hardy’s novels, whose human characters would probably not behave much differently if they were set in some other rural locality of England. The popularity of Sir Walter Scott’s “Waverley” novels is due in part to their evocation of a romantic Scotland. Setting may be the prime consideration of some readers, who can be drawn to Conrad because he depicts life at sea or in the East Indies; they may be less interested in the complexity of human relationships that he presents.\n",
    "\n",
    "The regional novel is a recognized species. The sequence of four novels that Hugh Walpole began with Rogue Herries (1930) was the result of his desire to do homage to the part of Cumberland, in England, where he had elected to live. The great Yoknapatawpha cycle of William Faulkner, a classic of 20th-century American literature set in an imaginary county in Mississippi, belongs to the category as much as the once-popular confections about Sussex that were written about the same time by the English novelist Sheila Kaye-Smith. Many novelists, however, gain a creative impetus from avoiding the same setting in book after book and deliberately seeking new locales. The English novelist Graham Greene apparently needed to visit a fresh scene in order to write a fresh novel. His ability to encapsulate the essence of an exotic setting in a single book is exemplified in The Heart of the Matter (1948); his contemporary Evelyn Waugh stated that the West Africa of that book replaced the true remembered West Africa of his own experience. Such power is not uncommon: the Yorkshire moors have been romanticized because Emily Brontë wrote of them in Wuthering Heights (1847), and literary tourists have visited Stoke-on-Trent, in northern England, because it comprises the “Five Towns” of Arnold Bennett’s novels of the early 20th century. Others go to the Monterey, California, of John Steinbeck’s novels in the expectation of experiencing a frisson added to the locality by an act of creative imagination. James Joyce, who remained inexhaustibly stimulated by Dublin, has exalted that city in a manner that even the guidebooks recognize.\n",
    "\n",
    "The setting of a novel is not always drawn from a real-life locale. The literary artist sometimes prides himself on his ability to create the totality of his fiction—the setting as well as the characters and their actions. In the Russian expatriate Vladimir Nabokov’s Ada (1969) there is an entirely new space–time continuum, and the English scholar J.R.R. Tolkien in his Lord of the Rings (1954–55) created an “alternative world” that appeals greatly to many who are dissatisfied with the existing one. The world of interplanetary travel was imaginatively created long before the first moon landing. The properties of the future envisaged by H.G. Wells’s novels or by Aldous Huxley in Brave New World (1932) are still recognized in an age that those authors did not live to see. The composition of place can be a magical fictional gift.\n",
    "\n",
    "Whatever the locale of his work, every true novelist is concerned with making a credible environment for his characters, and this really means a close attention to sense data—the immediacies of food and drink and colour—far more than abstractions like “nature” and “city.” The London of Charles Dickens is as much incarnated in the smell of wood in lawyers’ chambers as in the skyline and vistas of streets.\n",
    "\n",
    "Narrative method and point of view\n",
    "Where there is a story, there is a storyteller. Traditionally, the narrator of the epic and mock-epic alike acted as an intermediary between the characters and the reader; the method of Fielding is not very different from the method of Homer. Sometimes the narrator boldly imposed his own attitudes; always he assumed an omniscience that tended to reduce the characters to puppets and the action to a predetermined course with an end implicit in the beginning. Many novelists have been unhappy about a narrative method that seems to limit the free will of the characters, and innovations in fictional technique have mostly sought the objectivity of the drama, in which the characters appear to work out their own destinies without prompting from the author.\n",
    "\n",
    "The epistolary method, most notably used by Samuel Richardson in Pamela (1740) and by Jean-Jacques Rousseau in La nouvelle Héloïse (1761), has the advantage of allowing the characters to tell the story in their own words, but it is hard to resist the uneasy feeling that a kind of divine editor is sorting and ordering the letters into his own pattern. The device of making the narrator also a character in the story has the disadvantage of limiting the material available for the narration, since the narrator-character can know only those events in which he participates. There can, of course, be a number of secondary narratives enclosed in the main narrative, and this device—though it sometimes looks artificial—has been used triumphantly by Conrad and, on a lesser scale, by W. Somerset Maugham. A, the main narrator, tells what he knows directly of the story and introduces what B and C and D have told him about the parts that he does not know.\n",
    "\n",
    "Seeking the most objective narrative method of all, Ford Madox Ford used, in The Good Soldier (1915), the device of the storyteller who does not understand the story he is telling. This is the technique of the “unreliable observer.” The reader, understanding better than the narrator, has the illusion of receiving the story directly. Joyce, in both his major novels, uses different narrators for the various chapters. Most of them are unreliable, and some of them approach the impersonality of a sort of disembodied parody. In Ulysses, for example, an episode set in a maternity hospital is told through the medium of a parodic history of English prose style. But, more often than not, the sheer ingenuity of Joyce’s techniques draws attention to the manipulator in the shadows. The reader is aware of the author’s cleverness where he should be aware only of the characters and their actions. The author is least noticeable when he is employing the stream of consciousness device, by which the inchoate thoughts and feelings of a character are presented in interior monologue—apparently unedited and sometimes deliberately near-unintelligible. It is because this technique seems to draw fiction into the psychoanalyst’s consulting room (presenting the raw material of either art or science, but certainly not art itself), however, that Joyce felt impelled to impose the shaping devices referred to above. Joyce, more than any novelist, sought total objectivity of narration technique but ended as the most subjective and idiosyncratic of stylists.\n",
    "The problem of a satisfactory narrative point of view is, in fact, nearly insoluble. The careful exclusion of comment, the limitation of vocabulary to a sort of reader’s lowest common denominator, the paring of style to the absolute minimum—these puritanical devices work well for an Ernest Hemingway (who, like Joyce, remains, nevertheless, a highly idiosyncratic stylist) but not for a novelist who believes that, like poetry, his art should be able to draw on the richness of word play, allusion, and symbol. For even the most experienced novelist, each new work represents a struggle with the unconquerable task of reconciling all-inclusion with self-exclusion. It is noteworthy that Cervantes, in Don Quixote, and Nabokov, in Lolita (1955), join hands across four centuries in finding most satisfactory the device of the fictitious editor who presents a manuscript story for which he disclaims responsibility. But this highly useful method presupposes in the true author a scholarly, or pedantic, faculty not usually associated with novelists.\n",
    "Scope, or dimension\n",
    "No novel can theoretically be too long, but if it is too short it ceases to be a novel. It may or may not be accidental that the novels most highly regarded by the world are of considerable length—Cervantes’ Don Quixote, Dostoyevsky’s Brothers Karamazov, Tolstoy’s War and Peace, Dickens’ David Copperfield, Proust’s À la recherche du temps perdu, and so on. On the other hand, since World War II, brevity has been regarded as a virtue in works like the later novels of the Irish absurdist author Samuel Beckett and the ficciones of the Argentine Jorge Luis Borges, and it is only an aesthetic based on bulk that would diminish the achievement of Ronald Firbank’s short novels of the post-World War I era or the Evelyn Waugh who wrote The Loved One (1948). It would seem that there are two ways of presenting human character—one, the brief way, through a significant episode in the life of a personage or group of personages; the other, which admits of limitless length, through the presentation of a large section of a life or lives, sometimes beginning with birth and ending in old age. The plays of Shakespeare show that a full delineation of character can be effected in a very brief compass, so that, for this aspect of the novel, length confers no special advantage. Length, however, is essential when the novelist attempts to present something bigger than character—when, in fact, he aims at the representation of a whole society or period of history.\n",
    "Scope, or dimension\n",
    "No novel can theoretically be too long, but if it is too short it ceases to be a novel. It may or may not be accidental that the novels most highly regarded by the world are of considerable length—Cervantes’ Don Quixote, Dostoyevsky’s Brothers Karamazov, Tolstoy’s War and Peace, Dickens’ David Copperfield, Proust’s À la recherche du temps perdu, and so on. On the other hand, since World War II, brevity has been regarded as a virtue in works like the later novels of the Irish absurdist author Samuel Beckett and the ficciones of the Argentine Jorge Luis Borges, and it is only an aesthetic based on bulk that would diminish the achievement of Ronald Firbank’s short novels of the post-World War I era or the Evelyn Waugh who wrote The Loved One (1948). It would seem that there are two ways of presenting human character—one, the brief way, through a significant episode in the life of a personage or group of personages; the other, which admits of limitless length, through the presentation of a large section of a life or lives, sometimes beginning with birth and ending in old age. The plays of Shakespeare show that a full delineation of character can be effected in a very brief compass, so that, for this aspect of the novel, length confers no special advantage. Length, however, is essential when the novelist attempts to present something bigger than character—when, in fact, he aims at the representation of a whole society or period of history.\n",
    "Even the long picaresque novel—which, in the hands of a Fielding or his contemporary Tobias Smollett, can rarely be accused of sentimentality—easily betrays itself into such acts of self-indulgence as the multiplication of incident for its own sake, the coy digression, the easygoing jogtrot pace that subdues the sense of urgency that should lie in all fiction. If Tolstoy’s War and Peace is a greater novel than Fielding’s Tom Jones or Dickens’ David Copperfield, it is not because its theme is nobler, or more pathetic, or more significant historically; it is because Tolstoy brings to his panoramic drama the compression and urgency usually regarded as the monopolies of briefer fiction.\n",
    "\n",
    "Sometimes the scope of a fictional concept demands a technical approach analogous to that of the symphony in music—the creation of a work in separate books, like symphonic movements, each of which is intelligible alone but whose greater intelligibility depends on the theme and characters that unify them. The French author Romain Rolland’s Jean-Christophe (1904–12) sequence is, very appropriately since the hero is a musical composer, a work in four movements. Among works of English literature, Lawrence Durrell’s Alexandria Quartet (1957–60) insists in its very title that it is a tetralogy rather than a single large entity divided into four volumes; the concept is “relativist” and attempts to look at the same events and characters from four different viewpoints. Anthony Powell’s Dance to the Music of Time, a multivolume series of novels that began in 1951 (collected 1962), may be seen as a study of a segment of British society in which the chronological approach is eschewed, and events are brought together in one volume or another because of a kind of parachronic homogeneity. C.P. Snow’s Strangers and Brothers, a comparable series that began in 1940 and continued to appear throughout the ’50s and into the ’60s, shows how a fictional concept can be realized only in the act of writing, since the publication of the earlier volumes antedates the historical events portrayed in later ones. In other words, the author could not know what the subject matter of the sequence would be until he was in sight of its end. Behind all these works lies the giant example of Proust’s roman-fleuve, whose length and scope were properly coterminous with the author’s own life and emergent understanding of its pattern.\n",
    "\n",
    "Myth, symbolism, significance\n",
    "The novelist’s conscious day-to-day preoccupation is the setting down of incident, the delineation of personality, the regulation of exposition, climax, and denouement. The aesthetic value of the work is frequently determined by subliminal forces that seem to operate independently of the writer, investing the properties of the surface story with a deeper significance. A novel will then come close to myth, its characters turning into symbols of permanent human states or impulses, particular incarnations of general truths perhaps only realized for the first time in the act of reading. The ability to perform a quixotic act anteceded Don Quixote, just as bovarysme existed before Flaubert found a name for it.\n",
    "But the desire to give a work of fiction a significance beyond that of the mere story is frequently conscious and deliberate, indeed sometimes the primary aim. When a novel—like Joyce’s Ulysses or John Updike’s Centaur (1963) or Anthony Burgess’ Vision of Battlements (1965)—is based on an existing classical myth, there is an intention of either ennobling a lowly subject matter, satirizing a debased set of values by referring them to a heroic age, or merely providing a basic structure to hold down a complex and, as it were, centrifugal picture of real life. Of Ulysses Joyce said that his Homeric parallel (which is worked out in great and subtle detail) was a bridge across which to march his 18 episodes; after the march the bridge could be “blown skyhigh.” But there is no doubt that, through the classical parallel, the account of an ordinary summer day in Dublin is given a richness, irony, and universality unattainable by any other means.\n",
    "\n",
    "The mythic or symbolic intention of a novel may manifest itself less in structure than in details which, though they appear naturalistic, are really something more. The shattering of the eponymous golden bowl in Henry James’s 1904 novel makes palpable, and hence truly symbolic, the collapse of a relationship. Even the choice of a character’s name may be symbolic. Sammy Mountjoy, in William Golding’s Free Fall (1959), has fallen from the grace of heaven, the mount of joy, by an act of volition that the title makes clear. The eponym of Doctor Zhivago is so called because his name, meaning “The Living,” carries powerful religious overtones. In the Russian version of the Gospel According to St. Luke, the angels ask the women who come to Christ’s tomb: “Chto vy ischyote zhivago mezhdu myortvykh?”—“Why do you seek the living among the dead?” And his first name, Yuri, the Russian equivalent of George, has dragon-slaying connotations.\n",
    "\n",
    "The symbol, the special significance at a subnarrative level, works best when it can fit without obtrusion into a context of naturalism. The optician’s trade sign of a huge pair of spectacles in F. Scott Fitzgerald’s Great Gatsby (1925) is acceptable as a piece of scenic detail, but an extra dimension is added to the tragedy of Gatsby, which is the tragedy of a whole epoch in American life, when it is taken also as a symbol of divine myopia. Similarly, a cinema poster in Malcolm Lowry’s Under the Volcano (1947), advertising a horror film, can be read as naturalistic background, but it is evident that the author expects the illustrated fiend—a concert pianist whose grafted hands are those of a murderer—to be seen also as a symbol of Nazi infamy; the novel is set at the beginning of World War II, and the last desperate day of the hero, Geoffrey Firmin, stands also for the collapse of Western civilization.\n",
    "There are symbolic novels whose infranarrative meaning cannot easily be stated, since it appears to subsist on an unconscious level. Herman Melville’s Moby Dick (1851) is such a work, as is D.H. Lawrence’s novella St. Mawr (1925), in which the significance of the horse is powerful and mysterious.\n",
    "\n",
    "Uses\n",
    "Interpretation of life\n",
    "Novels are not expected to be didactic, like tracts or morality plays; nevertheless, in varying degrees of implicitness, even the “purest” works of fictional art convey a philosophy of life. The novels of Jane Austen, designed primarily as superior entertainment, imply a desirable ordered existence, in which the comfortable decorum of an English rural family is disturbed only by a not-too-serious shortage of money, by love affairs that go temporarily wrong, and by the intrusion of self-centred stupidity. The good, if unrewarded for their goodness, suffer from no permanent injustice. Life is seen, not only in Jane Austen’s novels but in the whole current of bourgeois Anglo-American fiction, as fundamentally reasonable and decent. When wrong is committed, it is usually punished, thus fulfilling Miss Prism’s summation in Oscar Wilde’s play The Importance of Being Earnest (1895), to the effect that in a novel the good characters end up happily and the bad characters unhappily: “that is why it is called fiction.”\n",
    "\n",
    "That kind of fiction called realistic, which has its origins in 19th-century France, chose the other side of the coin, showing that there was no justice in life and that the evil and the stupid must prevail. In the novels of Thomas Hardy there is a pessimism that may be taken as a corrective of bourgeois Panglossianism—the philosophy that everything happens for the best, satirized in Voltaire’s Candide (1759)—since the universe is presented as almost impossibly malevolent. This tradition is regarded as morbid, and it has been deliberately ignored by most popular novelists. The “Catholic” novelists—such as François Mauriac in France, Graham Greene in England, and others—see life as mysterious, full of wrong and evil and injustice inexplicable by human canons but necessarily acceptable in terms of the plans of an inscrutable God. Between the period of realistic pessimism, which had much to do with the agnosticism and determinism of 19th-century science, and the introduction of theological evil into the novel, writers such as H.G. Wells attempted to create a fiction based on optimistic liberalism. As a reaction, there was the depiction of “natural man” in the novels of D.H. Lawrence and Ernest Hemingway.\n",
    "\n",
    "For the most part, the view of life common to American and European fiction since World War II posits the existence of evil—whether theological or of that brand discovered by the French Existentialists, particularly Jean-Paul Sartre—and assumes that man is imperfect and life possibly absurd. The fiction of the former Communist Europe was based on a very different assumption, one that seems naïve and old-fashioned in its collective optimism to readers in the disillusioned democracies. It is to be noted that in the erstwhile Soviet Union aesthetic evaluation of fiction was replaced by ideological judgment. Accordingly, the works of the popular British writer A.J. Cronin, since they seem to depict personal tragedy as an emanation of capitalistic infamy, were rated higher than those of Conrad, James, and their peers.\n",
    "\n",
    "Entertainment or escape\n",
    "In a period that takes for granted that the written word should be “committed”—to the exposure of social wrong or the propagation of progressive ideologies—novelists who seek merely to take the reader out of his dull or oppressive daily life are not highly regarded, except by that reading public that has never expected a book to be anything more than a diversion. Nevertheless, the provision of laughter and dreams has been for many centuries a legitimate literary occupation. It can be condemned by serious devotees of literature only if it falsifies life through oversimplification and tends to corrupt its readers into belief that reality is as the author presents it. The novelettes once beloved of mill girls and domestic servants, in which the beggar maid was elevated to queendom by a king of high finance, were a mere narcotic, a sort of enervating opium of the oppressed; the encouragement of such subliterature might well be one of the devices of social oppression. Adventure stories and spy novels may have a healthy enough astringency, and the very preposterousness of some adventures can be a safeguard against any impressionable young reader’s neglecting the claims of real life to dream of becoming a secret agent. The subject matter of some humorous novels—such as the effete British aristocracy created by P.G. Wodehouse, which is no longer in existence if it ever was—can never be identified with a real human society; the dream is accepted as a dream. The same may be said of Evelyn Waugh’s early novels—such as Decline and Fall (1928) and Vile Bodies (1930)—but these are raised above mere entertainment by touching, almost incidentally, on real human issues (the relation of the innocent to a circumambient malevolence is a persistent theme in all Waugh’s writing).\n",
    "Any reader of fiction has a right to an occasional escape from the dullness or misery of his existence, but he has the critical duty of finding the best modes of escape—in the most efficiently engineered detective or adventure stories, in humour that is more than sentimental buffoonery, in dreams of love that are not mere pornography. The fiction of entertainment and escape frequently sets itself higher literary standards than novels with a profound social or philosophical purpose. Books like John Buchan’s Thirty-nine Steps (1915), Graham Greene’s Travels with My Aunt (1969), Dashiell Hammett’s Maltese Falcon (1930), and Raymond Chandler’s Big Sleep (1939) are distinguished pieces of writing that, while diverting and enthralling, keep a hold on the realities of human character. Ultimately, all good fiction is entertainment, and, if it instructs or enlightens, it does so best through enchanting the reader.\n",
    "\n",
    "Propaganda\n",
    "The desire to make the reader initiate certain acts—social, religious, or political—is the essence of all propaganda, and, though it does not always accord well with art, the propagandist purpose has often found its way into novels whose prime value is an aesthetic one. The Nicholas Nickleby (1839) of Charles Dickens attacked the abuses of schools to some purpose, as his Oliver Twist (1838) drew attention to the horrors of poorhouses and his Bleak House (1853) to the abuses of the law of chancery. The weakness of propaganda in fiction is that it loses its value when the wrongs it exposes are righted, so that the more successful a propagandist novel is, the briefer the life it can be expected to enjoy. The genius of Dickens lay in his ability to transcend merely topical issues through the vitality with which he presented them, so that his contemporary disclosures take on a timeless human validity—chiefly through the power of their drama, character, and rhetoric.\n",
    "\n",
    "The pure propagandist novel—which Dickens was incapable of writing—quickly becomes dated. The “social” novels of H.G. Wells, which propounded a rational mode of life and even blueprinted utopias, were very quickly exploded by the conviction of man’s irredeemable irrationality that World War I initiated and World War II corroborated, a conviction the author himself came to share toward the end of his life. But the early scientific romances of Wells remain vital and are seen to have been prophetic. Most of the fiction of the former Soviet Union, which either glorified the regime or refrained from criticizing it, was dull and unreal, and the same can be said of Communist fiction elsewhere. Propaganda too frequently ignores man as a totality, concentrating on him aspectively—in terms of politics or sectarian religion. When a didactic attack on a system, as in Harriet Beecher Stowe’s attack on slavery in the United States in Uncle Tom’s Cabin (1852), seems to go beyond mere propaganda, it is because the writer makes the reader aware of wrongs and injustices that are woven into the permanent human fabric. The reader’s response may be a modification of his own sensibility, not an immediate desire for action, and this is one of the legitimate effects of serious fiction. The propagandist Dickens calls for the immediate righting of wrongs, but the novelist Dickens says, mainly through implication, that all men—not just schoolmasters and state hirelings—should become more humane. If it is possible to speak of art as possessing a teaching purpose, this is perhaps its only lesson.\n",
    "\n",
    "Reportage\n",
    "The division in the novelist’s mind is between his view of his art as a contrivance, like a Fabergé watch, and his view of it as a record of real life. The versatile English writer Daniel Defoe, on the evidence of such novels as his Journal of the Plague Year (1722), a recreation of the London plague of 1665, believed that art or contrivance had the lesser claim and proceeded to present his account of events of which he had had no direct experience in the form of plain journalistic reportage. This book, like his Robinson Crusoe (1719) and Moll Flanders (1722), is more contrived and cunning than it appears, and the hurried, unshaped narrative is the product of careful preparation and selective ordering. His example, which could have been a very fruitful one, was not much followed until the 20th century, when the events of the real world became more terrifying and marvellous than anything the novelist could invent and seemed to ask for that full imaginative treatment that only the novelist’s craft can give.\n",
    "\n",
    "In contemporary American literature, John Hersey’s Hiroshima (1946), though it recorded the actual results of the nuclear attack on the Japanese city in 1945, did so in terms of human immediacies, not scientific or demographic abstractions, and this approach is essentially novelistic. Truman Capote’s In Cold Blood (1965) took the facts of a multiple murder in the Midwest of the United States and presented them with the force, reality, tone, and (occasionally) overintense writing that distinguish his genuine fiction. Norman Mailer, in The Armies of the Night (1968), recorded, in great personal detail but in a third-person narration, his part in a citizens’ protest march on Washington, D.C. It would seem that Mailer’s talent lies in his ability to merge the art of fiction and the craft of reportage, and his Of a Fire on the Moon (1970), which deals with the American lunar project, reads like an episode in an emergent roman-fleuve of which Mailer is the central character.\n",
    "'''\n",
    "\n",
    "# 全部轉為小寫以便統計統一\n",
    "text = text.lower()\n",
    "\n",
    "# 使用正則表示式抓出所有英文字單字\n",
    "words = re.findall(r'\\b[a-z]+\\b', text)\n",
    "\n",
    "# (1) 總字數\n",
    "total_words = len(words)\n",
    "\n",
    "# (2) 不重複的單字數\n",
    "word_types = set(words)\n",
    "total_word_types = len(word_types)\n",
    "\n",
    "# (3) 出現次數最多的前三個單字\n",
    "word_counter = Counter(words)\n",
    "top_three = word_counter.most_common(3)\n",
    "\n",
    "# (4) 只出現一次的單字中，按字典序排前3個\n",
    "unique_words = sorted([word for word, count in word_counter.items() if count == 1])[:3]\n",
    "\n",
    "# (5) 統計每個字元 a-z, 0-9 的出現次數\n",
    "char_counter = Counter(c for c in text if c.isalnum())\n",
    "char_counts = {char: char_counter[char] for char in sorted(char_counter) if char.isalpha() or char.isdigit()}\n",
    "\n",
    "# 輸出結果\n",
    "print(\"(1) Total # of words:\", total_words)\n",
    "print(\"(2) Total # of word's type:\", total_word_types)\n",
    "\n",
    "print(\"(3) Top 3 frequent words:\")\n",
    "for word, count in top_three:\n",
    "    print(f\"    {word} -> {count}\")\n",
    "\n",
    "print(\"(4) First 3 unique words in lexical order:\")\n",
    "for word in unique_words:\n",
    "    print(f\"    {word}\")\n",
    "\n",
    "print(\"(5) Character counts (a-z, 0-9):\")\n",
    "for char, count in char_counts.items():\n",
    "    print(f\"    {char} -> {count}\")"
   ]
  },
  {
   "cell_type": "markdown",
   "metadata": {},
   "source": [
    "## Q5"
   ]
  },
  {
   "cell_type": "code",
   "execution_count": 23,
   "metadata": {},
   "outputs": [
    {
     "name": "stdout",
     "output_type": "stream",
     "text": [
      "grape  : $0.60 × 4 = $2.40\n",
      "tomato : $1.80 × 10 = $18.00\n",
      "orange : $0.40 × 4 = $1.60\n",
      "pepper : $1.40 × 1 = $1.40\n",
      "Total : $23.40\n"
     ]
    }
   ],
   "source": [
    "#Q5\n",
    "fruits_prices = {\"apple\": 0.80, \"grape\": 0.60, \"orange\": 0.40}\n",
    "veggies_prices = {\"tomato\": 1.80, \"pepper\": 1.40, \"onion\": 1.23}\n",
    "order = {\"grape\": 4, \"tomato\": 10, \"orange\": 4, \"pepper\": 1}\n",
    "\n",
    "total = 0\n",
    "\n",
    "for item, quantity in order.items():\n",
    "    if item in fruits_prices:\n",
    "        price = fruits_prices[item]\n",
    "    else:\n",
    "        price = veggies_prices[item]\n",
    "    \n",
    "    subtotal = price * quantity\n",
    "    print(f\"{item:<7}: ${price:.2f} × {quantity} = ${subtotal:.2f}\")\n",
    "    total += subtotal\n",
    "\n",
    "print(f\"Total : ${total:.2f}\")"
   ]
  },
  {
   "cell_type": "markdown",
   "metadata": {},
   "source": [
    "## Q6"
   ]
  },
  {
   "cell_type": "code",
   "execution_count": 35,
   "metadata": {},
   "outputs": [
    {
     "name": "stdout",
     "output_type": "stream",
     "text": [
      "應繳稅金為：$117683.50\n"
     ]
    }
   ],
   "source": [
    "#Q6\n",
    "\n",
    "def compute_tax(status, income):\n",
    "    tax = 0\n",
    "\n",
    "    if status == 0:  # 單身\n",
    "        brackets = [8350, 33950, 82250, 171550, 372950]\n",
    "        rates = [0.10, 0.15, 0.25, 0.28, 0.33, 0.35]\n",
    "    elif status == 1:  # 已婚合報\n",
    "        brackets = [16700, 67900, 137050, 208850, 372950]\n",
    "        rates = [0.10, 0.15, 0.25, 0.28, 0.33, 0.35]\n",
    "    elif status == 2:  # 已婚分報\n",
    "        brackets = [8350, 33950, 68525, 104425, 186475]\n",
    "        rates = [0.10, 0.15, 0.25, 0.28, 0.33, 0.35]\n",
    "    elif status == 3:  # 戶長\n",
    "        brackets = [11950, 45500, 117450, 190200, 372950]\n",
    "        rates = [0.10, 0.15, 0.25, 0.28, 0.33, 0.35]\n",
    "    else:\n",
    "        return \"錯誤：無效的報稅身份\"\n",
    "\n",
    "    prev = 0\n",
    "    for i in range(len(brackets)):\n",
    "        if income <= brackets[i]:\n",
    "            tax += (income - prev) * rates[i]\n",
    "            return round(tax, 2)\n",
    "        else:\n",
    "            tax += (brackets[i] - prev) * rates[i]\n",
    "            prev = brackets[i]\n",
    "\n",
    "    # 最後一段（超過最高級距）\n",
    "    tax += (income - prev) * rates[-1]\n",
    "    return round(tax, 2)\n",
    "\n",
    "\n",
    "\n",
    "# status：0=單身, 1=已婚合報, 2=已婚分報, 3=戶長\n",
    "status = int(input(\"請輸入報稅身分代碼（0=單身, 1=已婚合報, 2=已婚分報, 3=戶長）：\"))\n",
    "income = float(input(\"請輸入應稅所得金額：\"))\n",
    "\n",
    "tax = compute_tax(status, income)\n",
    "print(f\"應繳稅金為：${tax:.2f}\")\n"
   ]
  },
  {
   "cell_type": "markdown",
   "metadata": {},
   "source": [
    "## Q7"
   ]
  },
  {
   "cell_type": "code",
   "execution_count": 28,
   "metadata": {},
   "outputs": [
    {
     "name": "stdout",
     "output_type": "stream",
     "text": [
      "樂透號碼是：63\n",
      "很可惜，沒有中獎。\n"
     ]
    }
   ],
   "source": [
    "#Q7\n",
    "import random\n",
    "\n",
    "# 隨機產生一個兩位數的樂透號碼（10 到 99）\n",
    "lottery = random.randint(10, 99)\n",
    "\n",
    "# 輸入一個兩位數的整數\n",
    "guess = eval(input(\"請輸入一個兩位數的數字：\"))\n",
    "\n",
    "# 拆解樂透號碼與使用者輸入的數字\n",
    "lottery_digit1 = lottery // 10\n",
    "lottery_digit2 = lottery % 10\n",
    "guess_digit1 = guess // 10\n",
    "guess_digit2 = guess % 10\n",
    "\n",
    "print(f\"樂透號碼是：{lottery}\")\n",
    "\n",
    "# 判斷中獎等級\n",
    "if guess == lottery:\n",
    "    print(\"恭喜！完全符合，獎金 $10,000！\")\n",
    "elif (guess_digit1 == lottery_digit2 and guess_digit2 == lottery_digit1):\n",
    "    print(\"數字正確但順序不同，獎金 $3,000！\")\n",
    "elif (guess_digit1 == lottery_digit1 or guess_digit1 == lottery_digit2 or\n",
    "      guess_digit2 == lottery_digit1 or guess_digit2 == lottery_digit2):\n",
    "    print(\"有一個數字符合，獎金 $1,000！\")\n",
    "else:\n",
    "    print(\"很可惜，沒有中獎。\")\n"
   ]
  },
  {
   "cell_type": "markdown",
   "metadata": {},
   "source": [
    "## Q8"
   ]
  },
  {
   "cell_type": "code",
   "execution_count": 26,
   "metadata": {},
   "outputs": [
    {
     "name": "stdout",
     "output_type": "stream",
     "text": [
      "你猜的數字太大了！\n",
      "你猜的數字太小了！\n",
      "你猜的數字太小了！\n",
      "你猜的數字太大了！\n",
      "你猜的數字太大了！\n",
      "你猜的數字太大了！\n",
      "你猜的數字太大了！\n",
      "你猜的數字太大了！\n",
      "你猜的數字太大了！\n",
      "你猜的數字太大了！\n",
      "你猜的數字太大了！\n",
      "你猜的數字太小了！\n",
      "你猜的數字太小了！\n",
      "你猜的數字太小了！\n",
      "你猜的數字太小了！\n",
      "恭喜你猜對了！\n"
     ]
    }
   ],
   "source": [
    "#Q8\n",
    "import random\n",
    "\n",
    "# 電腦隨機選一個 0 到 100 的整數\n",
    "magic_number = random.randint(0, 100)\n",
    "\n",
    "while True:\n",
    "    guess = int(input(\"請猜一個 0 到 100 的整數：\"))\n",
    "    \n",
    "    if guess < magic_number:\n",
    "        print(\"你猜的數字太小了！\")\n",
    "    elif guess > magic_number:\n",
    "        print(\"你猜的數字太大了！\")\n",
    "    else:\n",
    "        print(\"恭喜你猜對了！\")\n",
    "        break"
   ]
  },
  {
   "cell_type": "markdown",
   "metadata": {},
   "source": [
    "## Q9"
   ]
  },
  {
   "cell_type": "code",
   "execution_count": 38,
   "metadata": {},
   "outputs": [
    {
     "name": "stdout",
     "output_type": "stream",
     "text": [
      "最大公因數為: 8\n"
     ]
    }
   ],
   "source": [
    "#Q9\n",
    "n1 = 16\n",
    "n2 = 24\n",
    "gcd = 1\n",
    "\n",
    "for k in range(2, min(n1, n2)+1):\n",
    "    if n1 % k == 0 and n2 % k == 0:\n",
    "        gcd = k  # 更新最大公因數\n",
    "\n",
    "print(\"最大公因數為:\", gcd)\n"
   ]
  },
  {
   "cell_type": "markdown",
   "metadata": {},
   "source": [
    "## Q10"
   ]
  },
  {
   "cell_type": "code",
   "execution_count": 43,
   "metadata": {},
   "outputs": [
    {
     "name": "stdout",
     "output_type": "stream",
     "text": [
      "        1\n",
      "       212\n",
      "      32123\n",
      "     4321234\n",
      "    543212345\n",
      "   65432123456\n",
      "  7654321234567\n",
      " 876543212345678\n",
      "98765432123456789\n"
     ]
    }
   ],
   "source": [
    "#Q10\n",
    "# 讓使用者輸入行數\n",
    "n = int(input(\"Enter the number of lines: \"))\n",
    "\n",
    "# 檢查輸入是否在範圍內\n",
    "if 1 <= n <= 15:\n",
    "    for i in range(1, n + 1):\n",
    "        # 印出前導空白\n",
    "        print(' ' * (n - i), end='')\n",
    "\n",
    "        # 印出遞減部分\n",
    "        for j in range(i, 0, -1):\n",
    "            print(j, end='')\n",
    "\n",
    "        # 印出遞增部分（從2開始，避免重複1）\n",
    "        for j in range(2, i + 1):\n",
    "            print(j, end='')\n",
    "\n",
    "        # 換行\n",
    "        print()\n",
    "else:\n",
    "    print(\"請輸入1到15之間的整數\")\n"
   ]
  }
 ],
 "metadata": {
  "kernelspec": {
   "display_name": "base",
   "language": "python",
   "name": "python3"
  },
  "language_info": {
   "codemirror_mode": {
    "name": "ipython",
    "version": 3
   },
   "file_extension": ".py",
   "mimetype": "text/x-python",
   "name": "python",
   "nbconvert_exporter": "python",
   "pygments_lexer": "ipython3",
   "version": "3.12.7"
  }
 },
 "nbformat": 4,
 "nbformat_minor": 2
}
