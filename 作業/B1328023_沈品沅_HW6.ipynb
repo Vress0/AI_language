{
 "cells": [
  {
   "cell_type": "code",
   "execution_count": 25,
   "id": "28c0facb",
   "metadata": {},
   "outputs": [
    {
     "name": "stdout",
     "output_type": "stream",
     "text": [
      "Bear ears berries.\n",
      "Rabbit eats clover.\n",
      "Octothorpe eats campers.\n"
     ]
    }
   ],
   "source": [
    "#Q1\n",
    "class Bear():\n",
    "    def eats(self):\n",
    "        return \"berries\"\n",
    "    \n",
    "class Rabbit():\n",
    "    def eats(self):\n",
    "        return \"clover\"\n",
    "    \n",
    "class Octothorpe():\n",
    "    def eats(self):\n",
    "        return \"campers\"\n",
    "    \n",
    "\n",
    "p1 = Bear()\n",
    "p2 = Rabbit()\n",
    "p3 = Octothorpe()\n",
    "print(f\"Bear ears {p1.eats()}.\")\n",
    "print(f\"Rabbit eats {p2.eats()}.\")\n",
    "print(f\"Octothorpe eats {p3.eats()}.\")\n"
   ]
  },
  {
   "cell_type": "code",
   "execution_count": 26,
   "id": "e43c150b",
   "metadata": {},
   "outputs": [
    {
     "name": "stdout",
     "output_type": "stream",
     "text": [
      "I have disintegrate, crush, and ring\n"
     ]
    }
   ],
   "source": [
    "#Q2 \n",
    "class Laser():\n",
    "    def does(self):\n",
    "        return \"disintegrate\"\n",
    "    \n",
    "class Claw():\n",
    "    def does(self):\n",
    "        return \"crush\"\n",
    "    \n",
    "class SmartPhone():\n",
    "    def does(self):\n",
    "        return \"ring\"\n",
    "    \n",
    "class Robot():\n",
    "    def __init__(self):\n",
    "        self.laser = Laser()\n",
    "        self.claw = Claw()\n",
    "        self.smartphone = SmartPhone()\n",
    "    \n",
    "    def does(self):\n",
    "        return f\"I have {self.laser.does()}, {self.claw.does()}, and {self.smartphone.does()}\"\n",
    "    \n",
    "\n",
    "r1 = Robot()\n",
    "print(r1.does())"
   ]
  },
  {
   "cell_type": "code",
   "execution_count": null,
   "id": "9283887e",
   "metadata": {},
   "outputs": [
    {
     "name": "stdout",
     "output_type": "stream",
     "text": [
      "(a)\n",
      "Hydrogen\n",
      "H\n",
      "1\n"
     ]
    }
   ],
   "source": [
    "#Q3\n",
    "#(a)\n",
    "class Element():\n",
    "    def __init__(self, name, symbol, number):\n",
    "        self.name = name\n",
    "        self.symbol = symbol\n",
    "        self.number = number\n",
    "    def dump(self):\n",
    "        print(f\"Name: {self.name}\")\n",
    "        print(f\"Symbol: {self.symbol}\")\n",
    "        print(f\"Number: {self.number}\")\n",
    "#-----------------------(a)-------------------------\n",
    "print(\"(a)\")\n",
    "h = Element(\"Hydrogen\", \"H\", 1)\n",
    "print(h.name)   \n",
    "print(h.symbol)  \n",
    "print(h.number)\n",
    "\n"
   ]
  },
  {
   "cell_type": "code",
   "execution_count": null,
   "id": "d8156f71",
   "metadata": {},
   "outputs": [
    {
     "name": "stdout",
     "output_type": "stream",
     "text": [
      "(b)\n",
      "Hydrogen\n",
      "H\n",
      "1\n"
     ]
    }
   ],
   "source": [
    "#Q3\n",
    "#(b)\n",
    "class Element():\n",
    "    def __init__(self, name, symbol, number):\n",
    "        self.name = name\n",
    "        self.symbol = symbol\n",
    "        self.number = number\n",
    "\n",
    "#-----------------------(b)-------------------------\n",
    "print(\"(b)\")\n",
    "element_dict = {'name': 'Hydrogen', 'symbol': 'H', 'number': 1}\n",
    "\n",
    "hydrogen = Element(**element_dict)\n",
    "print(hydrogen.name)\n",
    "print(hydrogen.symbol)\n",
    "print(hydrogen.number)"
   ]
  },
  {
   "cell_type": "code",
   "execution_count": null,
   "id": "a762b84d",
   "metadata": {},
   "outputs": [
    {
     "name": "stdout",
     "output_type": "stream",
     "text": [
      "(c)\n",
      "Name: Hydrogen\n",
      "Symbol: H\n",
      "Number: 1\n"
     ]
    }
   ],
   "source": [
    "#Q3\n",
    "#(c)\n",
    "class Element():\n",
    "    def __init__(self, name, symbol, number):\n",
    "        self.name = name\n",
    "        self.symbol = symbol\n",
    "        self.number = number\n",
    "    def dump(self):\n",
    "        print(f\"Name: {self.name}\")\n",
    "        print(f\"Symbol: {self.symbol}\")\n",
    "        print(f\"Number: {self.number}\")\n",
    "\n",
    "#-----------------------(c)-------------------------\n",
    "print(\"(c)\")\n",
    "\n",
    "hydrogen = Element(\"Hydrogen\", \"H\", 1)\n",
    "hydrogen.dump()\n"
   ]
  },
  {
   "cell_type": "code",
   "execution_count": null,
   "id": "25958019",
   "metadata": {},
   "outputs": [
    {
     "name": "stdout",
     "output_type": "stream",
     "text": [
      "(d)\n",
      "<__main__.Element object at 0x0000015D3B5611F0>\n",
      "Element: Hydrogen\n",
      "Symbol: H\n",
      "Number: 1\n",
      "\n"
     ]
    }
   ],
   "source": [
    "#Q3\n",
    "#(d)\n",
    "class Element():\n",
    "    def __init__(self, name, symbol, number):\n",
    "        self.name = name\n",
    "        self.symbol = symbol\n",
    "        self.number = number\n",
    "    def __str__(self):\n",
    "        return f\"Element: {self.name}\\nSymbol: {self.symbol}\\nNumber: {self.number}\\n\"\n",
    "#-----------------------(d)-------------------------\n",
    "print(\"(d)\")\n",
    "print(hydrogen)\n",
    "\n",
    "hydrogen = Element(\"Hydrogen\", \"H\", 1)\n",
    "print(hydrogen)\n",
    "\n"
   ]
  },
  {
   "cell_type": "code",
   "execution_count": null,
   "id": "54443415",
   "metadata": {},
   "outputs": [
    {
     "name": "stdout",
     "output_type": "stream",
     "text": [
      "(e)\n",
      "Name: Hydrogen\n",
      "Symbol: H\n",
      "Number: 1\n",
      "\n"
     ]
    }
   ],
   "source": [
    "#Q3\n",
    "#(e)\n",
    "print(\"(e)\")\n",
    "class Element():\n",
    "    def __init__(self, name, symbol, number):\n",
    "        self.__name = name\n",
    "        self.__symbol = symbol\n",
    "        self.__number = number\n",
    "    @property\n",
    "    def name(self):\n",
    "        return self.__name\n",
    "    @property\n",
    "    def symbol(self):\n",
    "        return self.__symbol\n",
    "    @property\n",
    "    def number(self):\n",
    "        return self.__number\n",
    "    def __str__(self):\n",
    "        return f\"Name: {self.name}\\nSymbol: {self.symbol}\\nNumber: {self.number}\\n\"\n",
    "\n",
    "hydrogen = Element(\"Hydrogen\", \"H\", 1)\n",
    "print(hydrogen)\n",
    "\n",
    "\n"
   ]
  },
  {
   "cell_type": "code",
   "execution_count": 7,
   "id": "7eac37a8",
   "metadata": {},
   "outputs": [
    {
     "name": "stdout",
     "output_type": "stream",
     "text": [
      "Two roots: 2.0, 1.0\n"
     ]
    }
   ],
   "source": [
    "#Q4 \n",
    "class QuadraticEquation:\n",
    "    def __init__(self, a, b, c):\n",
    "        self.a = a\n",
    "        self.b = b\n",
    "        self.c = c\n",
    "    def getDiscriminant(self):\n",
    "        return self.b**2 - 4*self.a*self.c\n",
    "    def getRoot1(self):\n",
    "        return (-self.b + self.getDiscriminant()**0.5) / (2*self.a)\n",
    "    def getRoot2(self):\n",
    "        return (-self.b - self.getDiscriminant()**0.5) / (2*self.a)\n",
    "    \n",
    "\n",
    "a = eval(input())\n",
    "b = eval(input())\n",
    "c = eval(input())\n",
    "ans = QuadraticEquation(a,b,c)\n",
    "if ans.getDiscriminant()>0:\n",
    "    print(f\"Two roots: {ans.getRoot1()}, {ans.getRoot2()}\")\n",
    "elif ans.getDiscriminant() == 0:\n",
    "    print(f\"One roots: {ans.getRoot1()}\")\n",
    "else:\n",
    "    print(\"The equation has no roots\")\n"
   ]
  },
  {
   "cell_type": "code",
   "execution_count": null,
   "id": "3b5b6e7e",
   "metadata": {},
   "outputs": [
    {
     "name": "stdout",
     "output_type": "stream",
     "text": [
      "72.99637794494629\n"
     ]
    }
   ],
   "source": [
    "#Q5\n",
    "import time\n",
    "class StopWatch():\n",
    "    #def __init__(self,startTime,endTime): 不能這樣寫，這會要求使用者建立物件時要輸入 startTime 和 endTime\n",
    "        #self.__startTime = startTime\n",
    "        #self.__endTime = endTime\n",
    "\n",
    "    def __init__ (self):\n",
    "        self.__startTime = 0 # 初始化用，不代表真實時間\t\n",
    "        self.__endTime =0 # 初始化用，不代表真實時間\t\n",
    "    @property\n",
    "    def startTime(self):\n",
    "        return self.__startTime\n",
    "    @property\n",
    "    def endTime(self):\n",
    "        return self.__endTime\n",
    "    \n",
    "    def start(self):\n",
    "        self.__startTime = time.time()  #time.time() 是秒\n",
    "\n",
    "    def stop(self):\n",
    "        self.__endTime = time.time()\n",
    "\n",
    "\n",
    "    def getElapsedTime(self):\n",
    "        return (self.__endTime - self.__startTime)*1000\n",
    "    \n",
    "\n",
    "sw = StopWatch()\n",
    "\n",
    "sw.start()\n",
    "count = 0\n",
    "for i in range(1,1000001):\n",
    "    count += i\n",
    "sw.stop()\n",
    "print(sw.getElapsedTime())\n"
   ]
  }
 ],
 "metadata": {
  "kernelspec": {
   "display_name": "base",
   "language": "python",
   "name": "python3"
  },
  "language_info": {
   "codemirror_mode": {
    "name": "ipython",
    "version": 3
   },
   "file_extension": ".py",
   "mimetype": "text/x-python",
   "name": "python",
   "nbconvert_exporter": "python",
   "pygments_lexer": "ipython3",
   "version": "3.12.7"
  }
 },
 "nbformat": 4,
 "nbformat_minor": 5
}
