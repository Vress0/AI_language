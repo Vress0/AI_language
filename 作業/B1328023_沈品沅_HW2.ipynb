{
 "cells": [
  {
   "cell_type": "code",
   "execution_count": null,
   "metadata": {},
   "outputs": [
    {
     "name": "stdout",
     "output_type": "stream",
     "text": [
      "The three angles are 90.0 45.0 45.0\n"
     ]
    }
   ],
   "source": [
    "#Q1\n",
    "import math\n",
    "x1, y1, x2, y2, x3, y3 = eval(input(\"Enter three points: \"))\n",
    "a = math.sqrt((x2-x3)**2+(y2-y3)**2)\n",
    "b = math.sqrt((x1-x3)**2+(y1-y3)**2)\n",
    "c = math.sqrt((x2-x1)**2+(y2-y1)**2)\n",
    "\n",
    "A = math.degrees(math.acos((a*a-b*b-c*c)/(-2*b*c)))\n",
    "B = math.degrees(math.acos((b*b-a*a-c*c)/(-2*a*c)))\n",
    "C = math.degrees(math.acos((c*c-b*b-a*a)/(-2*a*b)))\n",
    "\n",
    "\n",
    "print(f\"The three angles are {round(A,ndigits=2)} {round(B,ndigits=2)} {round(C,ndigits=2)}\")\n",
    "                                   "
   ]
  },
  {
   "cell_type": "code",
   "execution_count": 12,
   "metadata": {},
   "outputs": [
    {
     "name": "stdout",
     "output_type": "stream",
     "text": [
      "大圓距離為: 10691.79183231593 km\n"
     ]
    }
   ],
   "source": [
    "#Q2\n",
    "p1, q1, p2, q2 = eval(input(\"Enter two points: \"))\n",
    "R = 6371.01\n",
    "p1 = math.radians(p1) #x1\n",
    "q1 = math.radians(q1) #y1\n",
    "p2 = math.radians(p2) #x2\n",
    "q2 = math.radians(q2) #y2\n",
    "\n",
    "d = R * math.acos(math.sin(p1)*math.sin(p2) + math.cos(p1)*math.cos(p2)*math.cos(q1-q2))\n",
    "print(f\"大圓距離為: {d} km\")"
   ]
  },
  {
   "cell_type": "code",
   "execution_count": 15,
   "metadata": {},
   "outputs": [
    {
     "name": "stdout",
     "output_type": "stream",
     "text": [
      "My kitty cat likes roast beef,\n",
      "My kitty cat likes ham,\n",
      "My kitty cat fell on his head\n",
      "And now thinks he's a clam.\n"
     ]
    }
   ],
   "source": [
    "#Q3\n",
    "print(\"My kitty cat likes %s,\" % (\"roast beef\"))\n",
    "print(\"My kitty cat likes %s,\" % (\"ham\"))\n",
    "print(\"My kitty cat fell on his %s\" % (\"head\"))\n",
    "print(\"And now thinks he's a %s.\" % (\"clam\"))\n"
   ]
  },
  {
   "cell_type": "code",
   "execution_count": null,
   "metadata": {},
   "outputs": [
    {
     "name": "stdout",
     "output_type": "stream",
     "text": [
      "\n",
      "Dear Mr. Curry,   \n",
      "\n",
      "Thank you for your letter. We are sorry that our basketball\n",
      "sended in your bedroom. Please note that it should never \n",
      "be used in a bedroom, especially near any cats.\n",
      "\n",
      "Send us your receipt and $200 for shipping and handling.\n",
      "We will send you another basketball that, in our tests,\n",
      "is 50% less likely to have sended.\n",
      "\n",
      "Thank you for your support.\n",
      "\n",
      "Sincerely,\n",
      "badman\n",
      "Customer Center\n",
      "\n"
     ]
    }
   ],
   "source": [
    "#Q4\n",
    "letter = \"\"\"\n",
    "Dear {a} {b},   \n",
    "\n",
    "Thank you for your letter. We are sorry that our {c}\n",
    "{d} in your {e}. Please note that it should never \n",
    "be used in a {f}, especially near any {g}.\n",
    "\n",
    "Send us your receipt and {h} for shipping and handling.\n",
    "We will send you another {i} that, in our tests,\n",
    "is {j}% less likely to have {k}.\n",
    "\n",
    "Thank you for your support.\n",
    "\n",
    "Sincerely,\n",
    "{l}\n",
    "{m}\n",
    "\"\"\".format(a=\"Mr.\",b=\"Curry\",c=\"basketball\",d=\"sent\",e=\"bedroom\",f=\"bedroom\",g=\"cats\",h=\"$200\",i=\"basketball\",j=\"50\",k=\"sent\",l=\"badman\",m=\"Customer Center\")\n",
    "\n",
    "print(letter)"
   ]
  },
  {
   "cell_type": "code",
   "execution_count": 1,
   "metadata": {},
   "outputs": [
    {
     "name": "stdout",
     "output_type": "stream",
     "text": [
      "When an eel grabs your arm,\n",
      "And it causes great harm,\n",
      "That's - a Moray!\n"
     ]
    }
   ],
   "source": [
    "#Q5\n",
    "song = \"\"\"When an eel grabs your arm,\n",
    "And it causes great harm,\n",
    "That's - a moray!\"\"\"\n",
    "word = \"moray\"\n",
    "\n",
    "new_song = song.replace(\" m\",\" M\",5)\n",
    "    \n",
    "print(new_song)"
   ]
  }
 ],
 "metadata": {
  "kernelspec": {
   "display_name": "base",
   "language": "python",
   "name": "python3"
  },
  "language_info": {
   "codemirror_mode": {
    "name": "ipython",
    "version": 3
   },
   "file_extension": ".py",
   "mimetype": "text/x-python",
   "name": "python",
   "nbconvert_exporter": "python",
   "pygments_lexer": "ipython3",
   "version": "3.12.7"
  }
 },
 "nbformat": 4,
 "nbformat_minor": 2
}
